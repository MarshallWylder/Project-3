{
 "cells": [
  {
   "cell_type": "code",
   "execution_count": 267,
   "metadata": {
    "ExecuteTime": {
     "end_time": "2022-04-22T06:41:32.882751Z",
     "start_time": "2022-04-22T06:41:32.860415Z"
    }
   },
   "outputs": [],
   "source": [
    "import pandas as pd \n",
    "import numpy as np\n",
    "import matplotlib.pyplot as plt\n",
    "import seaborn as sns\n",
    "from sklearn.linear_model import LogisticRegression\n",
    "from sklearn.model_selection import train_test_split, cross_val_score\n",
    "from sklearn.preprocessing import StandardScaler, OneHotEncoder\n",
    "%matplotlib inline\n",
    "from imblearn.over_sampling import SMOTE\n",
    "from imblearn.pipeline import Pipeline as imbPipeline\n",
    "from sklearn.compose import ColumnTransformer\n",
    "from sklearn.metrics import accuracy_score\n",
    "import pickle\n",
    "from sklearn.ensemble import RandomForestClassifier, ExtraTreesClassifier\n",
    "from sklearn.metrics import roc_curve, auc\n",
    "from sklearn.dummy import DummyClassifier"
   ]
  },
  {
   "cell_type": "code",
   "execution_count": 268,
   "metadata": {
    "ExecuteTime": {
     "end_time": "2022-04-22T06:41:32.886325Z",
     "start_time": "2022-04-22T06:41:32.884685Z"
    }
   },
   "outputs": [],
   "source": [
    "#Load Data"
   ]
  },
  {
   "cell_type": "code",
   "execution_count": 269,
   "metadata": {
    "ExecuteTime": {
     "end_time": "2022-04-22T06:41:33.247485Z",
     "start_time": "2022-04-22T06:41:32.888395Z"
    }
   },
   "outputs": [],
   "source": [
    "df = pd.read_csv('./data/dataset.csv')"
   ]
  },
  {
   "cell_type": "code",
   "execution_count": 270,
   "metadata": {
    "ExecuteTime": {
     "end_time": "2022-04-22T06:41:33.252171Z",
     "start_time": "2022-04-22T06:41:33.250160Z"
    }
   },
   "outputs": [],
   "source": [
    "#Look at the data"
   ]
  },
  {
   "cell_type": "code",
   "execution_count": 271,
   "metadata": {
    "ExecuteTime": {
     "end_time": "2022-04-22T06:41:33.269254Z",
     "start_time": "2022-04-22T06:41:33.254417Z"
    }
   },
   "outputs": [
    {
     "data": {
      "text/html": [
       "<div>\n",
       "<style scoped>\n",
       "    .dataframe tbody tr th:only-of-type {\n",
       "        vertical-align: middle;\n",
       "    }\n",
       "\n",
       "    .dataframe tbody tr th {\n",
       "        vertical-align: top;\n",
       "    }\n",
       "\n",
       "    .dataframe thead th {\n",
       "        text-align: right;\n",
       "    }\n",
       "</style>\n",
       "<table border=\"1\" class=\"dataframe\">\n",
       "  <thead>\n",
       "    <tr style=\"text-align: right;\">\n",
       "      <th></th>\n",
       "      <th>encounter_id</th>\n",
       "      <th>patient_id</th>\n",
       "      <th>hospital_id</th>\n",
       "      <th>age</th>\n",
       "      <th>bmi</th>\n",
       "      <th>elective_surgery</th>\n",
       "      <th>ethnicity</th>\n",
       "      <th>gender</th>\n",
       "      <th>height</th>\n",
       "      <th>icu_admit_source</th>\n",
       "      <th>...</th>\n",
       "      <th>diabetes_mellitus</th>\n",
       "      <th>hepatic_failure</th>\n",
       "      <th>immunosuppression</th>\n",
       "      <th>leukemia</th>\n",
       "      <th>lymphoma</th>\n",
       "      <th>solid_tumor_with_metastasis</th>\n",
       "      <th>apache_3j_bodysystem</th>\n",
       "      <th>apache_2_bodysystem</th>\n",
       "      <th>Unnamed: 83</th>\n",
       "      <th>hospital_death</th>\n",
       "    </tr>\n",
       "  </thead>\n",
       "  <tbody>\n",
       "    <tr>\n",
       "      <th>0</th>\n",
       "      <td>66154</td>\n",
       "      <td>25312</td>\n",
       "      <td>118</td>\n",
       "      <td>68.0</td>\n",
       "      <td>22.73</td>\n",
       "      <td>0</td>\n",
       "      <td>Caucasian</td>\n",
       "      <td>M</td>\n",
       "      <td>180.3</td>\n",
       "      <td>Floor</td>\n",
       "      <td>...</td>\n",
       "      <td>1.0</td>\n",
       "      <td>0.0</td>\n",
       "      <td>0.0</td>\n",
       "      <td>0.0</td>\n",
       "      <td>0.0</td>\n",
       "      <td>0.0</td>\n",
       "      <td>Sepsis</td>\n",
       "      <td>Cardiovascular</td>\n",
       "      <td>NaN</td>\n",
       "      <td>0</td>\n",
       "    </tr>\n",
       "    <tr>\n",
       "      <th>1</th>\n",
       "      <td>114252</td>\n",
       "      <td>59342</td>\n",
       "      <td>81</td>\n",
       "      <td>77.0</td>\n",
       "      <td>27.42</td>\n",
       "      <td>0</td>\n",
       "      <td>Caucasian</td>\n",
       "      <td>F</td>\n",
       "      <td>160.0</td>\n",
       "      <td>Floor</td>\n",
       "      <td>...</td>\n",
       "      <td>1.0</td>\n",
       "      <td>0.0</td>\n",
       "      <td>0.0</td>\n",
       "      <td>0.0</td>\n",
       "      <td>0.0</td>\n",
       "      <td>0.0</td>\n",
       "      <td>Respiratory</td>\n",
       "      <td>Respiratory</td>\n",
       "      <td>NaN</td>\n",
       "      <td>0</td>\n",
       "    </tr>\n",
       "    <tr>\n",
       "      <th>2</th>\n",
       "      <td>119783</td>\n",
       "      <td>50777</td>\n",
       "      <td>118</td>\n",
       "      <td>25.0</td>\n",
       "      <td>31.95</td>\n",
       "      <td>0</td>\n",
       "      <td>Caucasian</td>\n",
       "      <td>F</td>\n",
       "      <td>172.7</td>\n",
       "      <td>Accident &amp; Emergency</td>\n",
       "      <td>...</td>\n",
       "      <td>0.0</td>\n",
       "      <td>0.0</td>\n",
       "      <td>0.0</td>\n",
       "      <td>0.0</td>\n",
       "      <td>0.0</td>\n",
       "      <td>0.0</td>\n",
       "      <td>Metabolic</td>\n",
       "      <td>Metabolic</td>\n",
       "      <td>NaN</td>\n",
       "      <td>0</td>\n",
       "    </tr>\n",
       "    <tr>\n",
       "      <th>3</th>\n",
       "      <td>79267</td>\n",
       "      <td>46918</td>\n",
       "      <td>118</td>\n",
       "      <td>81.0</td>\n",
       "      <td>22.64</td>\n",
       "      <td>1</td>\n",
       "      <td>Caucasian</td>\n",
       "      <td>F</td>\n",
       "      <td>165.1</td>\n",
       "      <td>Operating Room / Recovery</td>\n",
       "      <td>...</td>\n",
       "      <td>0.0</td>\n",
       "      <td>0.0</td>\n",
       "      <td>0.0</td>\n",
       "      <td>0.0</td>\n",
       "      <td>0.0</td>\n",
       "      <td>0.0</td>\n",
       "      <td>Cardiovascular</td>\n",
       "      <td>Cardiovascular</td>\n",
       "      <td>NaN</td>\n",
       "      <td>0</td>\n",
       "    </tr>\n",
       "    <tr>\n",
       "      <th>4</th>\n",
       "      <td>92056</td>\n",
       "      <td>34377</td>\n",
       "      <td>33</td>\n",
       "      <td>19.0</td>\n",
       "      <td>NaN</td>\n",
       "      <td>0</td>\n",
       "      <td>Caucasian</td>\n",
       "      <td>M</td>\n",
       "      <td>188.0</td>\n",
       "      <td>Accident &amp; Emergency</td>\n",
       "      <td>...</td>\n",
       "      <td>0.0</td>\n",
       "      <td>0.0</td>\n",
       "      <td>0.0</td>\n",
       "      <td>0.0</td>\n",
       "      <td>0.0</td>\n",
       "      <td>0.0</td>\n",
       "      <td>Trauma</td>\n",
       "      <td>Trauma</td>\n",
       "      <td>NaN</td>\n",
       "      <td>0</td>\n",
       "    </tr>\n",
       "  </tbody>\n",
       "</table>\n",
       "<p>5 rows × 85 columns</p>\n",
       "</div>"
      ],
      "text/plain": [
       "   encounter_id  patient_id  hospital_id   age    bmi  elective_surgery  \\\n",
       "0         66154       25312          118  68.0  22.73                 0   \n",
       "1        114252       59342           81  77.0  27.42                 0   \n",
       "2        119783       50777          118  25.0  31.95                 0   \n",
       "3         79267       46918          118  81.0  22.64                 1   \n",
       "4         92056       34377           33  19.0    NaN                 0   \n",
       "\n",
       "   ethnicity gender  height           icu_admit_source  ...  \\\n",
       "0  Caucasian      M   180.3                      Floor  ...   \n",
       "1  Caucasian      F   160.0                      Floor  ...   \n",
       "2  Caucasian      F   172.7       Accident & Emergency  ...   \n",
       "3  Caucasian      F   165.1  Operating Room / Recovery  ...   \n",
       "4  Caucasian      M   188.0       Accident & Emergency  ...   \n",
       "\n",
       "   diabetes_mellitus hepatic_failure immunosuppression  leukemia  lymphoma  \\\n",
       "0                1.0             0.0               0.0       0.0       0.0   \n",
       "1                1.0             0.0               0.0       0.0       0.0   \n",
       "2                0.0             0.0               0.0       0.0       0.0   \n",
       "3                0.0             0.0               0.0       0.0       0.0   \n",
       "4                0.0             0.0               0.0       0.0       0.0   \n",
       "\n",
       "   solid_tumor_with_metastasis  apache_3j_bodysystem  apache_2_bodysystem  \\\n",
       "0                          0.0                Sepsis       Cardiovascular   \n",
       "1                          0.0           Respiratory          Respiratory   \n",
       "2                          0.0             Metabolic            Metabolic   \n",
       "3                          0.0        Cardiovascular       Cardiovascular   \n",
       "4                          0.0                Trauma               Trauma   \n",
       "\n",
       "   Unnamed: 83  hospital_death  \n",
       "0          NaN               0  \n",
       "1          NaN               0  \n",
       "2          NaN               0  \n",
       "3          NaN               0  \n",
       "4          NaN               0  \n",
       "\n",
       "[5 rows x 85 columns]"
      ]
     },
     "execution_count": 271,
     "metadata": {},
     "output_type": "execute_result"
    }
   ],
   "source": [
    "df.head()"
   ]
  },
  {
   "cell_type": "code",
   "execution_count": 272,
   "metadata": {
    "ExecuteTime": {
     "end_time": "2022-04-22T06:41:33.315669Z",
     "start_time": "2022-04-22T06:41:33.271073Z"
    }
   },
   "outputs": [
    {
     "name": "stdout",
     "output_type": "stream",
     "text": [
      "<class 'pandas.core.frame.DataFrame'>\n",
      "RangeIndex: 91713 entries, 0 to 91712\n",
      "Data columns (total 85 columns):\n",
      " #   Column                         Non-Null Count  Dtype  \n",
      "---  ------                         --------------  -----  \n",
      " 0   encounter_id                   91713 non-null  int64  \n",
      " 1   patient_id                     91713 non-null  int64  \n",
      " 2   hospital_id                    91713 non-null  int64  \n",
      " 3   age                            87485 non-null  float64\n",
      " 4   bmi                            88284 non-null  float64\n",
      " 5   elective_surgery               91713 non-null  int64  \n",
      " 6   ethnicity                      90318 non-null  object \n",
      " 7   gender                         91688 non-null  object \n",
      " 8   height                         90379 non-null  float64\n",
      " 9   icu_admit_source               91601 non-null  object \n",
      " 10  icu_id                         91713 non-null  int64  \n",
      " 11  icu_stay_type                  91713 non-null  object \n",
      " 12  icu_type                       91713 non-null  object \n",
      " 13  pre_icu_los_days               91713 non-null  float64\n",
      " 14  weight                         88993 non-null  float64\n",
      " 15  apache_2_diagnosis             90051 non-null  float64\n",
      " 16  apache_3j_diagnosis            90612 non-null  float64\n",
      " 17  apache_post_operative          91713 non-null  int64  \n",
      " 18  arf_apache                     90998 non-null  float64\n",
      " 19  gcs_eyes_apache                89812 non-null  float64\n",
      " 20  gcs_motor_apache               89812 non-null  float64\n",
      " 21  gcs_unable_apache              90676 non-null  float64\n",
      " 22  gcs_verbal_apache              89812 non-null  float64\n",
      " 23  heart_rate_apache              90835 non-null  float64\n",
      " 24  intubated_apache               90998 non-null  float64\n",
      " 25  map_apache                     90719 non-null  float64\n",
      " 26  resprate_apache                90479 non-null  float64\n",
      " 27  temp_apache                    87605 non-null  float64\n",
      " 28  ventilated_apache              90998 non-null  float64\n",
      " 29  d1_diasbp_max                  91548 non-null  float64\n",
      " 30  d1_diasbp_min                  91548 non-null  float64\n",
      " 31  d1_diasbp_noninvasive_max      90673 non-null  float64\n",
      " 32  d1_diasbp_noninvasive_min      90673 non-null  float64\n",
      " 33  d1_heartrate_max               91568 non-null  float64\n",
      " 34  d1_heartrate_min               91568 non-null  float64\n",
      " 35  d1_mbp_max                     91493 non-null  float64\n",
      " 36  d1_mbp_min                     91493 non-null  float64\n",
      " 37  d1_mbp_noninvasive_max         90234 non-null  float64\n",
      " 38  d1_mbp_noninvasive_min         90234 non-null  float64\n",
      " 39  d1_resprate_max                91328 non-null  float64\n",
      " 40  d1_resprate_min                91328 non-null  float64\n",
      " 41  d1_spo2_max                    91380 non-null  float64\n",
      " 42  d1_spo2_min                    91380 non-null  float64\n",
      " 43  d1_sysbp_max                   91554 non-null  float64\n",
      " 44  d1_sysbp_min                   91554 non-null  float64\n",
      " 45  d1_sysbp_noninvasive_max       90686 non-null  float64\n",
      " 46  d1_sysbp_noninvasive_min       90686 non-null  float64\n",
      " 47  d1_temp_max                    89389 non-null  float64\n",
      " 48  d1_temp_min                    89389 non-null  float64\n",
      " 49  h1_diasbp_max                  88094 non-null  float64\n",
      " 50  h1_diasbp_min                  88094 non-null  float64\n",
      " 51  h1_diasbp_noninvasive_max      84363 non-null  float64\n",
      " 52  h1_diasbp_noninvasive_min      84363 non-null  float64\n",
      " 53  h1_heartrate_max               88923 non-null  float64\n",
      " 54  h1_heartrate_min               88923 non-null  float64\n",
      " 55  h1_mbp_max                     87074 non-null  float64\n",
      " 56  h1_mbp_min                     87074 non-null  float64\n",
      " 57  h1_mbp_noninvasive_max         82629 non-null  float64\n",
      " 58  h1_mbp_noninvasive_min         82629 non-null  float64\n",
      " 59  h1_resprate_max                87356 non-null  float64\n",
      " 60  h1_resprate_min                87356 non-null  float64\n",
      " 61  h1_spo2_max                    87528 non-null  float64\n",
      " 62  h1_spo2_min                    87528 non-null  float64\n",
      " 63  h1_sysbp_max                   88102 non-null  float64\n",
      " 64  h1_sysbp_min                   88102 non-null  float64\n",
      " 65  h1_sysbp_noninvasive_max       84372 non-null  float64\n",
      " 66  h1_sysbp_noninvasive_min       84372 non-null  float64\n",
      " 67  d1_glucose_max                 85906 non-null  float64\n",
      " 68  d1_glucose_min                 85906 non-null  float64\n",
      " 69  d1_potassium_max               82128 non-null  float64\n",
      " 70  d1_potassium_min               82128 non-null  float64\n",
      " 71  apache_4a_hospital_death_prob  83766 non-null  float64\n",
      " 72  apache_4a_icu_death_prob       83766 non-null  float64\n",
      " 73  aids                           90998 non-null  float64\n",
      " 74  cirrhosis                      90998 non-null  float64\n",
      " 75  diabetes_mellitus              90998 non-null  float64\n",
      " 76  hepatic_failure                90998 non-null  float64\n",
      " 77  immunosuppression              90998 non-null  float64\n",
      " 78  leukemia                       90998 non-null  float64\n",
      " 79  lymphoma                       90998 non-null  float64\n",
      " 80  solid_tumor_with_metastasis    90998 non-null  float64\n",
      " 81  apache_3j_bodysystem           90051 non-null  object \n",
      " 82  apache_2_bodysystem            90051 non-null  object \n",
      " 83  Unnamed: 83                    0 non-null      float64\n",
      " 84  hospital_death                 91713 non-null  int64  \n",
      "dtypes: float64(71), int64(7), object(7)\n",
      "memory usage: 59.5+ MB\n"
     ]
    }
   ],
   "source": [
    "df.info()"
   ]
  },
  {
   "cell_type": "code",
   "execution_count": 273,
   "metadata": {
    "ExecuteTime": {
     "end_time": "2022-04-22T06:41:33.318473Z",
     "start_time": "2022-04-22T06:41:33.316863Z"
    }
   },
   "outputs": [],
   "source": [
    "# Checking for class imbalance "
   ]
  },
  {
   "cell_type": "code",
   "execution_count": 274,
   "metadata": {
    "ExecuteTime": {
     "end_time": "2022-04-22T06:41:33.323774Z",
     "start_time": "2022-04-22T06:41:33.319579Z"
    }
   },
   "outputs": [
    {
     "data": {
      "text/plain": [
       "0    0.913698\n",
       "1    0.086302\n",
       "Name: hospital_death, dtype: float64"
      ]
     },
     "execution_count": 274,
     "metadata": {},
     "output_type": "execute_result"
    }
   ],
   "source": [
    "df.hospital_death.value_counts(normalize=True)"
   ]
  },
  {
   "cell_type": "markdown",
   "metadata": {},
   "source": [
    "## Cleaning"
   ]
  },
  {
   "cell_type": "code",
   "execution_count": 275,
   "metadata": {
    "ExecuteTime": {
     "end_time": "2022-04-22T06:41:33.328902Z",
     "start_time": "2022-04-22T06:41:33.327443Z"
    }
   },
   "outputs": [],
   "source": [
    "# Drop unnamed and empty column"
   ]
  },
  {
   "cell_type": "code",
   "execution_count": 276,
   "metadata": {
    "ExecuteTime": {
     "end_time": "2022-04-22T06:41:33.345848Z",
     "start_time": "2022-04-22T06:41:33.330926Z"
    }
   },
   "outputs": [],
   "source": [
    "df.drop(df.columns[df.columns.str.contains('unnamed',case = False)],axis =1,inplace=True)"
   ]
  },
  {
   "cell_type": "code",
   "execution_count": 277,
   "metadata": {
    "ExecuteTime": {
     "end_time": "2022-04-22T06:41:33.348643Z",
     "start_time": "2022-04-22T06:41:33.347232Z"
    }
   },
   "outputs": [],
   "source": [
    "# Drop unique Identifier columns"
   ]
  },
  {
   "cell_type": "code",
   "execution_count": 278,
   "metadata": {
    "ExecuteTime": {
     "end_time": "2022-04-22T06:41:33.377683Z",
     "start_time": "2022-04-22T06:41:33.349745Z"
    }
   },
   "outputs": [],
   "source": [
    "df.drop(df.columns[df.columns.str.contains('_id',case = False)],axis =1,inplace=True)"
   ]
  },
  {
   "cell_type": "code",
   "execution_count": 279,
   "metadata": {
    "ExecuteTime": {
     "end_time": "2022-04-22T06:41:33.417869Z",
     "start_time": "2022-04-22T06:41:33.378821Z"
    }
   },
   "outputs": [
    {
     "name": "stdout",
     "output_type": "stream",
     "text": [
      "<class 'pandas.core.frame.DataFrame'>\n",
      "RangeIndex: 91713 entries, 0 to 91712\n",
      "Data columns (total 80 columns):\n",
      " #   Column                         Non-Null Count  Dtype  \n",
      "---  ------                         --------------  -----  \n",
      " 0   age                            87485 non-null  float64\n",
      " 1   bmi                            88284 non-null  float64\n",
      " 2   elective_surgery               91713 non-null  int64  \n",
      " 3   ethnicity                      90318 non-null  object \n",
      " 4   gender                         91688 non-null  object \n",
      " 5   height                         90379 non-null  float64\n",
      " 6   icu_admit_source               91601 non-null  object \n",
      " 7   icu_stay_type                  91713 non-null  object \n",
      " 8   icu_type                       91713 non-null  object \n",
      " 9   pre_icu_los_days               91713 non-null  float64\n",
      " 10  weight                         88993 non-null  float64\n",
      " 11  apache_2_diagnosis             90051 non-null  float64\n",
      " 12  apache_3j_diagnosis            90612 non-null  float64\n",
      " 13  apache_post_operative          91713 non-null  int64  \n",
      " 14  arf_apache                     90998 non-null  float64\n",
      " 15  gcs_eyes_apache                89812 non-null  float64\n",
      " 16  gcs_motor_apache               89812 non-null  float64\n",
      " 17  gcs_unable_apache              90676 non-null  float64\n",
      " 18  gcs_verbal_apache              89812 non-null  float64\n",
      " 19  heart_rate_apache              90835 non-null  float64\n",
      " 20  intubated_apache               90998 non-null  float64\n",
      " 21  map_apache                     90719 non-null  float64\n",
      " 22  resprate_apache                90479 non-null  float64\n",
      " 23  temp_apache                    87605 non-null  float64\n",
      " 24  ventilated_apache              90998 non-null  float64\n",
      " 25  d1_diasbp_max                  91548 non-null  float64\n",
      " 26  d1_diasbp_min                  91548 non-null  float64\n",
      " 27  d1_diasbp_noninvasive_max      90673 non-null  float64\n",
      " 28  d1_diasbp_noninvasive_min      90673 non-null  float64\n",
      " 29  d1_heartrate_max               91568 non-null  float64\n",
      " 30  d1_heartrate_min               91568 non-null  float64\n",
      " 31  d1_mbp_max                     91493 non-null  float64\n",
      " 32  d1_mbp_min                     91493 non-null  float64\n",
      " 33  d1_mbp_noninvasive_max         90234 non-null  float64\n",
      " 34  d1_mbp_noninvasive_min         90234 non-null  float64\n",
      " 35  d1_resprate_max                91328 non-null  float64\n",
      " 36  d1_resprate_min                91328 non-null  float64\n",
      " 37  d1_spo2_max                    91380 non-null  float64\n",
      " 38  d1_spo2_min                    91380 non-null  float64\n",
      " 39  d1_sysbp_max                   91554 non-null  float64\n",
      " 40  d1_sysbp_min                   91554 non-null  float64\n",
      " 41  d1_sysbp_noninvasive_max       90686 non-null  float64\n",
      " 42  d1_sysbp_noninvasive_min       90686 non-null  float64\n",
      " 43  d1_temp_max                    89389 non-null  float64\n",
      " 44  d1_temp_min                    89389 non-null  float64\n",
      " 45  h1_diasbp_max                  88094 non-null  float64\n",
      " 46  h1_diasbp_min                  88094 non-null  float64\n",
      " 47  h1_diasbp_noninvasive_max      84363 non-null  float64\n",
      " 48  h1_diasbp_noninvasive_min      84363 non-null  float64\n",
      " 49  h1_heartrate_max               88923 non-null  float64\n",
      " 50  h1_heartrate_min               88923 non-null  float64\n",
      " 51  h1_mbp_max                     87074 non-null  float64\n",
      " 52  h1_mbp_min                     87074 non-null  float64\n",
      " 53  h1_mbp_noninvasive_max         82629 non-null  float64\n",
      " 54  h1_mbp_noninvasive_min         82629 non-null  float64\n",
      " 55  h1_resprate_max                87356 non-null  float64\n",
      " 56  h1_resprate_min                87356 non-null  float64\n",
      " 57  h1_spo2_max                    87528 non-null  float64\n",
      " 58  h1_spo2_min                    87528 non-null  float64\n",
      " 59  h1_sysbp_max                   88102 non-null  float64\n",
      " 60  h1_sysbp_min                   88102 non-null  float64\n",
      " 61  h1_sysbp_noninvasive_max       84372 non-null  float64\n",
      " 62  h1_sysbp_noninvasive_min       84372 non-null  float64\n",
      " 63  d1_glucose_max                 85906 non-null  float64\n",
      " 64  d1_glucose_min                 85906 non-null  float64\n",
      " 65  d1_potassium_max               82128 non-null  float64\n",
      " 66  d1_potassium_min               82128 non-null  float64\n",
      " 67  apache_4a_hospital_death_prob  83766 non-null  float64\n",
      " 68  apache_4a_icu_death_prob       83766 non-null  float64\n",
      " 69  aids                           90998 non-null  float64\n",
      " 70  cirrhosis                      90998 non-null  float64\n",
      " 71  diabetes_mellitus              90998 non-null  float64\n",
      " 72  hepatic_failure                90998 non-null  float64\n",
      " 73  immunosuppression              90998 non-null  float64\n",
      " 74  leukemia                       90998 non-null  float64\n",
      " 75  lymphoma                       90998 non-null  float64\n",
      " 76  solid_tumor_with_metastasis    90998 non-null  float64\n",
      " 77  apache_3j_bodysystem           90051 non-null  object \n",
      " 78  apache_2_bodysystem            90051 non-null  object \n",
      " 79  hospital_death                 91713 non-null  int64  \n",
      "dtypes: float64(70), int64(3), object(7)\n",
      "memory usage: 56.0+ MB\n"
     ]
    }
   ],
   "source": [
    "df.info() # sanity check"
   ]
  },
  {
   "cell_type": "markdown",
   "metadata": {},
   "source": [
    "Dictionary from Daniel Warda,\n",
    "https://www.kaggle.com/code/danielwarda/patient-survival-prediction-eda-part-1/notebook"
   ]
  },
  {
   "cell_type": "code",
   "execution_count": 280,
   "metadata": {
    "ExecuteTime": {
     "end_time": "2022-04-22T06:41:33.424702Z",
     "start_time": "2022-04-22T06:41:33.419092Z"
    }
   },
   "outputs": [],
   "source": [
    "dict_description={'encounter_id' : 'Unique identifier associated with a patient unit stay',\n",
    "'patient_id': 'Unique identifier associated with a patient',\n",
    "'hospital_id': 'Unique identifier associated with a hospital',\n",
    "'age': 'The age of the patient on unit admission',\n",
    "'bmi': 'The body mass index of the person on unit admission',\n",
    "'elective_surgery':'Whether the patient was admitted to the hospital for an elective surgical operation',\n",
    "'ethnicity':'The common national or cultural tradition which the person belongs to',\n",
    "'gender':'Sex of the patient',\n",
    "'height':'The height of the person on unit admission',\n",
    "'icu_admit_source':'The location of the patient prior to being admitted to the unit',\n",
    "'icu_id':' unique identifier for the unit to which the patient was admitted',\n",
    "'icu_stay_type':'string',\n",
    "'icu_type': 'A classification which indicates the type of care the unit is capable of providing',               \n",
    "'pre_icu_los_days': 'The length of stay of the patient between hospital admission and unit admission',\n",
    "'weight' :'The weight (body mass) of the person on unit admission',\n",
    "'apache_2_diagnosis' :'The APACHE II diagnosis for the ICU admission',\n",
    "'apache_3j_diagnosis' :'The APACHE III-J sub-diagnosis code which best describes the reason for the ICU admission',\n",
    "'apache_post_operative':'The APACHE operative status; 1 for post-operative, 0 for non-operative',\n",
    "'arf_apache':' Whether the patient had acute renal failure during the first 24 hours of their unit stay, defined as a 24 hour urine output <410ml, creatinine >=133 micromol/L and no chronic dialysis',\n",
    "'gcs_eyes_apache':'The eye opening component of the Glasgow Coma Scale measured during the first 24 hours which results in the highest APACHE III score',\n",
    "'gcs_motor_apache': 'The motor component of the Glasgow Coma Scale measured during the first 24 hours which results in the highest APACHE III score',\n",
    "'gcs_unable_apache': 'Whether the Glasgow Coma Scale was unable to be assessed due to patient sedation',\n",
    " 'gcs_verbal_apache': 'The verbal component of the Glasgow Coma Scale measured during the first 24 hours which results in the highest APACHE III score',\n",
    "'heart_rate_apache': 'The heart rate measured during the first 24 hours which results in the highest APACHE III score',\n",
    "'intubated_apache': 'Whether the patient was intubated at the time of the highest scoring arterial blood gas used in the oxygenation score',\n",
    "'map_apache': 'The mean arterial pressure measured during the first 24 hours which results in the highest APACHE III score',\n",
    "'resprate_apache': 'The respiratory rate measured during the first 24 hours which results in the highest APACHE III score',\n",
    "'temp_apache': 'The temperature measured during the first 24 hours which results in the highest APACHE III score',\n",
    "'ventilated_apache': 'Whether the patient was invasively ventilated at the time of the highest scoring arterial blood gas using the oxygenation scoring algorithm, including any mode of positive pressure ventilation delivered through a circuit attached to an endo-tracheal tube or tracheostomy',      \n",
    "'d1_diasbp_max':\"The patient's highest diastolic blood pressure during the first 24 hours of their unit stay, either non-invasively or invasively measured\",\n",
    "'d1_diasbp_min':\"The patient's lowest diastolic blood pressure during the first 24 hours of their unit stay, either non-invasively or invasively measured\",\n",
    "'d1_diasbp_noninvasive_max':\"The patient's highest diastolic blood pressure during the first 24 hours of their unit stay, non-invasively measured\",\n",
    "'d1_diasbp_noninvasive_min':\"The patient's lowest diastolic blood pressure during the first 24 hours of their unit stay, non-invasively measured\",\n",
    "'d1_heartrate_max':\"The patient's highest heart rate during the first 24 hours of their unit stay\",\n",
    "'d1_heartrate_min':\"The patient's lowest heart rate during the first 24 hours of their unit stay\",\n",
    "'d1_mbp_max':\"The patient's highest mean blood pressure during the first 24 hours of their unit stay, either non-invasively or invasively measured\",\n",
    "'d1_mbp_min':\"The patient's lowest mean blood pressure during the first 24 hours of their unit stay, either non-invasively or invasively measured\",\n",
    "'d1_mbp_noninvasive_max':\"The patient's highest mean blood pressure during the first 24 hours of their unit stay, non-invasively measured\",\n",
    "'d1_mbp_noninvasive_min':\"The patient's lowest mean blood pressure during the first 24 hours of their unit stay, non-invasively measured\",\n",
    "'d1_resprate_max':\"The patient's highest respiratory rate during the first 24 hours of their unit stay\",\n",
    "'d1_resprate_min':\"The patient's lowest respiratory rate during the first 24 hours of their unit stay\",\n",
    "'d1_spo2_max':\"The patient's highest peripheral oxygen saturation during the first 24 hours of their unit stay\",\n",
    "'d1_spo2_min':\"The patient's lowest peripheral oxygen saturation during the first 24 hours of their unit stay\",\n",
    "'d1_sysbp_max':\"The patient's highest systolic blood pressure :uring the first 24 hours of their unit stay, either non-invasively or invasively measured\",\n",
    "'d1_sysbp_min':\"The patient's lowest systolic blood pressure :uring the first 24 hours of their unit stay, either non-invasively or invasively measured\",\n",
    "'d1_sysbp_noninvasive_max':\"The patient': highest systolic blood pressure during the first 24 hours of their unit stay, invasively measured\",\n",
    "'d1_sysbp_noninvasive_min':\"The patient': lowest systolic blood pressure during the first 24 hours of their unit stay, invasively measured\",\n",
    "'d1_temp_max':\"The patient:s highest core temperature during the first 24 hours of their unit stay, invasively measured\",\n",
    "'d1_temp_min':\"The patient's lowest core temperature during the first 24 hours of their unit stay\",\n",
    "'h1_diasbp_max':\"The patient's highest diastolic blood :ressure during the first hour of their unit stay, either non-invasively or invasively measured\",\n",
    "'h1_diasbp_min':\"The patient's lowest diastolic blood :ressure during the first hour of their unit stay, either non-invasively or invasively measured\",\n",
    "'h1_diasbp_noninvasive_max':\"The patient:s highest diastolic blood pressure during the first hour of their unit stay, invasively measured\",\n",
    "'h1_diasbp_noninvasive_min':\"The patient:s lowest diastolic blood pressure during the first hour of their unit stay, invasively measured\",\n",
    "'h1_heartrate_max':\"The patient's highest heart rate during the first hour of their unit stay\",\n",
    "'h1_heartrate_min':\"The patient's lowest heart rate during the first hour of their unit stay\",\n",
    "'h1_mbp_max':\"The patient's highest mean blood :ressure during the first hour of their unit stay, either non-invasively or invasively measured\",\n",
    "'h1_mbp_min':\"The patient's lowest mean blood :ressure during the first hour of their unit stay, either non-invasively or invasively measured\",\n",
    "'h1_mbp_noninvasive_max':\"The patient's :ighest mean blood pressure during the first hour of their unit stay, non-invasively measured\",\n",
    "'h1_mbp_noninvasive_min':\"The patient's :owest mean blood pressure during the first hour of their unit stay, non-invasively measured\",\n",
    "'h1_resprate_max':\"The patient's highest respiratory rate during the first hour of their unit stay\",\n",
    "'h1_resprate_min':\"The patient's lowest respiratory rate during the first hour of their unit stay\",\n",
    "'h1_spo2_max':\"The patient's highest peripheral oxygen saturation during the first hour of their unit stay\",\n",
    "'h1_spo2_min':\"The patient's lowest peripheral oxygen saturation during the first hour of their unit stay\",\n",
    "'h1_sysbp_max':\"The patient's highest systolic blood pressure during the first hour of their unit stay, either non-invasively or invasively measured\",\n",
    "'h1_sysbp_min':\"The patient's lowest systolic blood pressure during the first hour of their unit stay, either non-invasively or invasively measured\",\n",
    "'h1_sysbp_noninvasive_max':\"The patient's highest systolic blood pressure during the first hour of their unit stay, non-invasively measured\",\n",
    "'h1_sysbp_noninvasive_min':\"The patient's lowest systolic blood pressure during the first hour of their unit stay, non-invasively measured\",\n",
    "'d1_glucose_max':\"The highest glucose concentration of the patient in their serum or plasma during the first 24 hours of their unit stay\",\n",
    "'d1_glucose_min':\"The lowest glucose concentration of the patient in their serum or plasma during the first 24 hours of their unit stay\",\n",
    "'d1_potassium_max':\"The highest potassium concentration for the patient in their serum or plasma during the first 24 hours of their unit stay\",\n",
    "'d1_potassium_min':\"The lowest potassium concentration for the patient in their serum or plasma during the first 24 hours of their unit stay\",\n",
    "'apache_4a_hospital_death_prob':\"The APACHE IVa probabilistic prediction of in-hospital mortality for the patient which utilizes the APACHE III score and other covariates, including diagnosis.\",\n",
    "'apache_4a_icu_death_prob':\"The APACHE IVa probabilistic prediction of in ICU mortality for the patient which utilizes the APACHE III score and other covariates, including diagnosis\",\n",
    "'aids':\"Whether the patient has a definitive diagnosis of acquired immune deficiency syndrome (AIDS) (not HIV positive alone)\",\n",
    "'cirrhosis':\"Whether the patient has a history of heavy alcohol use with portal hypertension and varices, other causes of cirrhosis with evidence of portal hypertension and varices, or biopsy proven cirrhosis. This comorbidity does not apply to patients with a functioning liver transplant.\",\n",
    "'diabetes_mellitus':\"Whether the patient has been diagnosed with diabetes, either juvenile or adult onset, which requires medication.\",\n",
    "'hepatic_failure':\"Whether the patient has cirrhosis and additional complications including jaundice and ascites, upper GI bleeding, hepatic encephalopathy, or coma.\",\n",
    "'immunosuppression':\"Whether the patient has their immune system suppressed within six months prior to ICU admission for any of the following reasons; radiation therapy, chemotherapy, use of non-cytotoxic immunosuppressive drugs, high dose steroids (at least 0.3 mg/kg/day of methylprednisolone or equivalent for at least 6 months).\",\n",
    "'leukemia':\"Whether the patient has been diagnosed with acute or chronic myelogenous leukemia, acute or chronic lymphocytic leukemia, or multiple myeloma.\",\n",
    "'lymphoma':\"Whether the patient has been diagnosed with non-Hodgkin lymphoma.\",\n",
    "'solid_tumor_with_metastasis':\"Whether the patient has been diagnosed with any solid tumor carcinoma (including malignant melanoma) which has evidence of metastasis.\",\n",
    "'apache_3j_bodysystem':\"Admission diagnosis group for APACHE III\",\n",
    "'apache_2_bodysystem':\"Admission diagnosis group for APACHE II\",\n",
    "'hospital_death':\"Whether the patient died during this hospitalization\"}"
   ]
  },
  {
   "cell_type": "code",
   "execution_count": 281,
   "metadata": {
    "ExecuteTime": {
     "end_time": "2022-04-22T06:41:33.427442Z",
     "start_time": "2022-04-22T06:41:33.425820Z"
    }
   },
   "outputs": [],
   "source": [
    "# checking nulls in columns"
   ]
  },
  {
   "cell_type": "code",
   "execution_count": 282,
   "metadata": {
    "ExecuteTime": {
     "end_time": "2022-04-22T06:41:33.459123Z",
     "start_time": "2022-04-22T06:41:33.428429Z"
    }
   },
   "outputs": [
    {
     "data": {
      "text/plain": [
       "age                            4228\n",
       "bmi                            3429\n",
       "elective_surgery                  0\n",
       "ethnicity                      1395\n",
       "gender                           25\n",
       "                               ... \n",
       "lymphoma                        715\n",
       "solid_tumor_with_metastasis     715\n",
       "apache_3j_bodysystem           1662\n",
       "apache_2_bodysystem            1662\n",
       "hospital_death                    0\n",
       "Length: 80, dtype: int64"
      ]
     },
     "execution_count": 282,
     "metadata": {},
     "output_type": "execute_result"
    }
   ],
   "source": [
    "df.isnull().sum()"
   ]
  },
  {
   "cell_type": "code",
   "execution_count": 283,
   "metadata": {
    "ExecuteTime": {
     "end_time": "2022-04-22T06:41:33.461991Z",
     "start_time": "2022-04-22T06:41:33.460367Z"
    }
   },
   "outputs": [],
   "source": [
    "# Creating data frame of rows with null values"
   ]
  },
  {
   "cell_type": "code",
   "execution_count": 284,
   "metadata": {
    "ExecuteTime": {
     "end_time": "2022-04-22T06:41:33.491291Z",
     "start_time": "2022-04-22T06:41:33.463054Z"
    }
   },
   "outputs": [],
   "source": [
    "null_data = df[df.isnull().any(axis=1)]"
   ]
  },
  {
   "cell_type": "code",
   "execution_count": 285,
   "metadata": {
    "ExecuteTime": {
     "end_time": "2022-04-22T06:41:33.495222Z",
     "start_time": "2022-04-22T06:41:33.492559Z"
    }
   },
   "outputs": [
    {
     "data": {
      "text/plain": [
       "(34778, 80)"
      ]
     },
     "execution_count": 285,
     "metadata": {},
     "output_type": "execute_result"
    }
   ],
   "source": [
    "null_data.shape"
   ]
  },
  {
   "cell_type": "code",
   "execution_count": 286,
   "metadata": {
    "ExecuteTime": {
     "end_time": "2022-04-22T06:41:33.497892Z",
     "start_time": "2022-04-22T06:41:33.496325Z"
    }
   },
   "outputs": [],
   "source": [
    "# dropping eththnicity column"
   ]
  },
  {
   "cell_type": "code",
   "execution_count": 287,
   "metadata": {
    "ExecuteTime": {
     "end_time": "2022-04-22T06:41:33.508006Z",
     "start_time": "2022-04-22T06:41:33.498865Z"
    }
   },
   "outputs": [],
   "source": [
    "df.drop('ethnicity',axis =1,inplace=True)"
   ]
  },
  {
   "cell_type": "code",
   "execution_count": 288,
   "metadata": {
    "ExecuteTime": {
     "end_time": "2022-04-22T06:41:33.511027Z",
     "start_time": "2022-04-22T06:41:33.509357Z"
    }
   },
   "outputs": [],
   "source": [
    "# checking class in df "
   ]
  },
  {
   "cell_type": "code",
   "execution_count": 289,
   "metadata": {
    "ExecuteTime": {
     "end_time": "2022-04-22T06:41:33.516434Z",
     "start_time": "2022-04-22T06:41:33.512192Z"
    }
   },
   "outputs": [
    {
     "data": {
      "text/plain": [
       "0    0.913698\n",
       "1    0.086302\n",
       "Name: hospital_death, dtype: float64"
      ]
     },
     "execution_count": 289,
     "metadata": {},
     "output_type": "execute_result"
    }
   ],
   "source": [
    "df.hospital_death.value_counts(normalize=True)"
   ]
  },
  {
   "cell_type": "code",
   "execution_count": 290,
   "metadata": {
    "ExecuteTime": {
     "end_time": "2022-04-22T06:41:33.519011Z",
     "start_time": "2022-04-22T06:41:33.517549Z"
    }
   },
   "outputs": [],
   "source": [
    "# check imbalances in null df"
   ]
  },
  {
   "cell_type": "code",
   "execution_count": 291,
   "metadata": {
    "ExecuteTime": {
     "end_time": "2022-04-22T06:41:33.524111Z",
     "start_time": "2022-04-22T06:41:33.520103Z"
    }
   },
   "outputs": [
    {
     "data": {
      "text/plain": [
       "0    0.913048\n",
       "1    0.086952\n",
       "Name: hospital_death, dtype: float64"
      ]
     },
     "execution_count": 291,
     "metadata": {},
     "output_type": "execute_result"
    }
   ],
   "source": [
    "null_data.hospital_death.value_counts(normalize=True)"
   ]
  },
  {
   "cell_type": "markdown",
   "metadata": {},
   "source": [
    "With the class imbalances nearly identicle if the rows of nulls are dropped it won't affect the proportion within the target class."
   ]
  },
  {
   "cell_type": "code",
   "execution_count": 292,
   "metadata": {
    "ExecuteTime": {
     "end_time": "2022-04-22T06:41:33.557654Z",
     "start_time": "2022-04-22T06:41:33.525179Z"
    }
   },
   "outputs": [
    {
     "name": "stdout",
     "output_type": "stream",
     "text": [
      "<class 'pandas.core.frame.DataFrame'>\n",
      "RangeIndex: 91713 entries, 0 to 91712\n",
      "Data columns (total 79 columns):\n",
      " #   Column                         Non-Null Count  Dtype  \n",
      "---  ------                         --------------  -----  \n",
      " 0   age                            87485 non-null  float64\n",
      " 1   bmi                            88284 non-null  float64\n",
      " 2   elective_surgery               91713 non-null  int64  \n",
      " 3   gender                         91688 non-null  object \n",
      " 4   height                         90379 non-null  float64\n",
      " 5   icu_admit_source               91601 non-null  object \n",
      " 6   icu_stay_type                  91713 non-null  object \n",
      " 7   icu_type                       91713 non-null  object \n",
      " 8   pre_icu_los_days               91713 non-null  float64\n",
      " 9   weight                         88993 non-null  float64\n",
      " 10  apache_2_diagnosis             90051 non-null  float64\n",
      " 11  apache_3j_diagnosis            90612 non-null  float64\n",
      " 12  apache_post_operative          91713 non-null  int64  \n",
      " 13  arf_apache                     90998 non-null  float64\n",
      " 14  gcs_eyes_apache                89812 non-null  float64\n",
      " 15  gcs_motor_apache               89812 non-null  float64\n",
      " 16  gcs_unable_apache              90676 non-null  float64\n",
      " 17  gcs_verbal_apache              89812 non-null  float64\n",
      " 18  heart_rate_apache              90835 non-null  float64\n",
      " 19  intubated_apache               90998 non-null  float64\n",
      " 20  map_apache                     90719 non-null  float64\n",
      " 21  resprate_apache                90479 non-null  float64\n",
      " 22  temp_apache                    87605 non-null  float64\n",
      " 23  ventilated_apache              90998 non-null  float64\n",
      " 24  d1_diasbp_max                  91548 non-null  float64\n",
      " 25  d1_diasbp_min                  91548 non-null  float64\n",
      " 26  d1_diasbp_noninvasive_max      90673 non-null  float64\n",
      " 27  d1_diasbp_noninvasive_min      90673 non-null  float64\n",
      " 28  d1_heartrate_max               91568 non-null  float64\n",
      " 29  d1_heartrate_min               91568 non-null  float64\n",
      " 30  d1_mbp_max                     91493 non-null  float64\n",
      " 31  d1_mbp_min                     91493 non-null  float64\n",
      " 32  d1_mbp_noninvasive_max         90234 non-null  float64\n",
      " 33  d1_mbp_noninvasive_min         90234 non-null  float64\n",
      " 34  d1_resprate_max                91328 non-null  float64\n",
      " 35  d1_resprate_min                91328 non-null  float64\n",
      " 36  d1_spo2_max                    91380 non-null  float64\n",
      " 37  d1_spo2_min                    91380 non-null  float64\n",
      " 38  d1_sysbp_max                   91554 non-null  float64\n",
      " 39  d1_sysbp_min                   91554 non-null  float64\n",
      " 40  d1_sysbp_noninvasive_max       90686 non-null  float64\n",
      " 41  d1_sysbp_noninvasive_min       90686 non-null  float64\n",
      " 42  d1_temp_max                    89389 non-null  float64\n",
      " 43  d1_temp_min                    89389 non-null  float64\n",
      " 44  h1_diasbp_max                  88094 non-null  float64\n",
      " 45  h1_diasbp_min                  88094 non-null  float64\n",
      " 46  h1_diasbp_noninvasive_max      84363 non-null  float64\n",
      " 47  h1_diasbp_noninvasive_min      84363 non-null  float64\n",
      " 48  h1_heartrate_max               88923 non-null  float64\n",
      " 49  h1_heartrate_min               88923 non-null  float64\n",
      " 50  h1_mbp_max                     87074 non-null  float64\n",
      " 51  h1_mbp_min                     87074 non-null  float64\n",
      " 52  h1_mbp_noninvasive_max         82629 non-null  float64\n",
      " 53  h1_mbp_noninvasive_min         82629 non-null  float64\n",
      " 54  h1_resprate_max                87356 non-null  float64\n",
      " 55  h1_resprate_min                87356 non-null  float64\n",
      " 56  h1_spo2_max                    87528 non-null  float64\n",
      " 57  h1_spo2_min                    87528 non-null  float64\n",
      " 58  h1_sysbp_max                   88102 non-null  float64\n",
      " 59  h1_sysbp_min                   88102 non-null  float64\n",
      " 60  h1_sysbp_noninvasive_max       84372 non-null  float64\n",
      " 61  h1_sysbp_noninvasive_min       84372 non-null  float64\n",
      " 62  d1_glucose_max                 85906 non-null  float64\n",
      " 63  d1_glucose_min                 85906 non-null  float64\n",
      " 64  d1_potassium_max               82128 non-null  float64\n",
      " 65  d1_potassium_min               82128 non-null  float64\n",
      " 66  apache_4a_hospital_death_prob  83766 non-null  float64\n",
      " 67  apache_4a_icu_death_prob       83766 non-null  float64\n",
      " 68  aids                           90998 non-null  float64\n",
      " 69  cirrhosis                      90998 non-null  float64\n",
      " 70  diabetes_mellitus              90998 non-null  float64\n",
      " 71  hepatic_failure                90998 non-null  float64\n",
      " 72  immunosuppression              90998 non-null  float64\n",
      " 73  leukemia                       90998 non-null  float64\n",
      " 74  lymphoma                       90998 non-null  float64\n",
      " 75  solid_tumor_with_metastasis    90998 non-null  float64\n",
      " 76  apache_3j_bodysystem           90051 non-null  object \n",
      " 77  apache_2_bodysystem            90051 non-null  object \n",
      " 78  hospital_death                 91713 non-null  int64  \n",
      "dtypes: float64(70), int64(3), object(6)\n",
      "memory usage: 55.3+ MB\n"
     ]
    }
   ],
   "source": [
    "df.info()"
   ]
  },
  {
   "cell_type": "code",
   "execution_count": 293,
   "metadata": {
    "ExecuteTime": {
     "end_time": "2022-04-22T06:41:33.564452Z",
     "start_time": "2022-04-22T06:41:33.562875Z"
    }
   },
   "outputs": [],
   "source": [
    "# collecting column names that are categorical"
   ]
  },
  {
   "cell_type": "code",
   "execution_count": 294,
   "metadata": {
    "ExecuteTime": {
     "end_time": "2022-04-22T06:41:33.569785Z",
     "start_time": "2022-04-22T06:41:33.567685Z"
    }
   },
   "outputs": [],
   "source": [
    "cat_columns= ['elective_surgery',\n",
    "              'gender',\n",
    "              'icu_admit_source',\n",
    "              'icu_stay_type',\n",
    "              'icu_type',\n",
    "              'apache_3j_diagnosis',\n",
    "              'apache_post_operative',\n",
    "              'arf_apache',\n",
    "              'gcs_eyes_apache',\n",
    "              'gcs_motor_apache',\n",
    "              'gcs_unable_apache',\n",
    "              'gcs_verbal_apache',\n",
    "              'intubated_apache',\n",
    "              'ventilated_apache',\n",
    "              'aids',\n",
    "              'cirrhosis',\n",
    "              'diabetes_mellitus',\n",
    "              'hepatic_failure',\n",
    "              'immunosuppression',\n",
    "              'leukemia',\n",
    "              'lymphoma',\n",
    "              'solid_tumor_with_metastasis',\n",
    "              'apache_3j_bodysystem',\n",
    "              'hospital_death']"
   ]
  },
  {
   "cell_type": "code",
   "execution_count": 295,
   "metadata": {
    "ExecuteTime": {
     "end_time": "2022-04-22T06:41:33.572185Z",
     "start_time": "2022-04-22T06:41:33.570799Z"
    }
   },
   "outputs": [],
   "source": [
    "# Create list of column names "
   ]
  },
  {
   "cell_type": "code",
   "execution_count": 296,
   "metadata": {
    "ExecuteTime": {
     "end_time": "2022-04-22T06:41:33.574981Z",
     "start_time": "2022-04-22T06:41:33.573292Z"
    }
   },
   "outputs": [],
   "source": [
    "df_columns = df.columns.tolist()"
   ]
  },
  {
   "cell_type": "code",
   "execution_count": 297,
   "metadata": {
    "ExecuteTime": {
     "end_time": "2022-04-22T06:41:33.577580Z",
     "start_time": "2022-04-22T06:41:33.576159Z"
    }
   },
   "outputs": [],
   "source": [
    "# creating list of names of numerical columns"
   ]
  },
  {
   "cell_type": "code",
   "execution_count": 298,
   "metadata": {
    "ExecuteTime": {
     "end_time": "2022-04-22T06:41:33.580367Z",
     "start_time": "2022-04-22T06:41:33.578731Z"
    }
   },
   "outputs": [],
   "source": [
    "num_columns =  [x for x in df_columns if x not in cat_columns] #[i for i in test_list if i not in remove_list]"
   ]
  },
  {
   "cell_type": "code",
   "execution_count": 299,
   "metadata": {
    "ExecuteTime": {
     "end_time": "2022-04-22T06:41:33.584114Z",
     "start_time": "2022-04-22T06:41:33.581472Z"
    }
   },
   "outputs": [
    {
     "data": {
      "text/plain": [
       "['age',\n",
       " 'bmi',\n",
       " 'height',\n",
       " 'pre_icu_los_days',\n",
       " 'weight',\n",
       " 'apache_2_diagnosis',\n",
       " 'heart_rate_apache',\n",
       " 'map_apache',\n",
       " 'resprate_apache',\n",
       " 'temp_apache',\n",
       " 'd1_diasbp_max',\n",
       " 'd1_diasbp_min',\n",
       " 'd1_diasbp_noninvasive_max',\n",
       " 'd1_diasbp_noninvasive_min',\n",
       " 'd1_heartrate_max',\n",
       " 'd1_heartrate_min',\n",
       " 'd1_mbp_max',\n",
       " 'd1_mbp_min',\n",
       " 'd1_mbp_noninvasive_max',\n",
       " 'd1_mbp_noninvasive_min',\n",
       " 'd1_resprate_max',\n",
       " 'd1_resprate_min',\n",
       " 'd1_spo2_max',\n",
       " 'd1_spo2_min',\n",
       " 'd1_sysbp_max',\n",
       " 'd1_sysbp_min',\n",
       " 'd1_sysbp_noninvasive_max',\n",
       " 'd1_sysbp_noninvasive_min',\n",
       " 'd1_temp_max',\n",
       " 'd1_temp_min',\n",
       " 'h1_diasbp_max',\n",
       " 'h1_diasbp_min',\n",
       " 'h1_diasbp_noninvasive_max',\n",
       " 'h1_diasbp_noninvasive_min',\n",
       " 'h1_heartrate_max',\n",
       " 'h1_heartrate_min',\n",
       " 'h1_mbp_max',\n",
       " 'h1_mbp_min',\n",
       " 'h1_mbp_noninvasive_max',\n",
       " 'h1_mbp_noninvasive_min',\n",
       " 'h1_resprate_max',\n",
       " 'h1_resprate_min',\n",
       " 'h1_spo2_max',\n",
       " 'h1_spo2_min',\n",
       " 'h1_sysbp_max',\n",
       " 'h1_sysbp_min',\n",
       " 'h1_sysbp_noninvasive_max',\n",
       " 'h1_sysbp_noninvasive_min',\n",
       " 'd1_glucose_max',\n",
       " 'd1_glucose_min',\n",
       " 'd1_potassium_max',\n",
       " 'd1_potassium_min',\n",
       " 'apache_4a_hospital_death_prob',\n",
       " 'apache_4a_icu_death_prob',\n",
       " 'apache_2_bodysystem']"
      ]
     },
     "execution_count": 299,
     "metadata": {},
     "output_type": "execute_result"
    }
   ],
   "source": [
    "num_columns"
   ]
  },
  {
   "cell_type": "code",
   "execution_count": 300,
   "metadata": {
    "ExecuteTime": {
     "end_time": "2022-04-22T06:41:33.586644Z",
     "start_time": "2022-04-22T06:41:33.585234Z"
    }
   },
   "outputs": [],
   "source": [
    "# Dropping null rows"
   ]
  },
  {
   "cell_type": "code",
   "execution_count": 301,
   "metadata": {
    "ExecuteTime": {
     "end_time": "2022-04-22T06:41:33.622947Z",
     "start_time": "2022-04-22T06:41:33.587707Z"
    }
   },
   "outputs": [],
   "source": [
    "df_clean = df.dropna() "
   ]
  },
  {
   "cell_type": "code",
   "execution_count": 302,
   "metadata": {
    "ExecuteTime": {
     "end_time": "2022-04-22T06:41:33.625736Z",
     "start_time": "2022-04-22T06:41:33.624192Z"
    }
   },
   "outputs": [],
   "source": [
    "# Dropping APACHE 2 because APACHE 3 is a more updated version "
   ]
  },
  {
   "cell_type": "code",
   "execution_count": 303,
   "metadata": {
    "ExecuteTime": {
     "end_time": "2022-04-22T06:41:33.633983Z",
     "start_time": "2022-04-22T06:41:33.627001Z"
    }
   },
   "outputs": [
    {
     "name": "stderr",
     "output_type": "stream",
     "text": [
      "/opt/anaconda3/envs/learn-env/lib/python3.8/site-packages/pandas/core/frame.py:4163: SettingWithCopyWarning: \n",
      "A value is trying to be set on a copy of a slice from a DataFrame\n",
      "\n",
      "See the caveats in the documentation: https://pandas.pydata.org/pandas-docs/stable/user_guide/indexing.html#returning-a-view-versus-a-copy\n",
      "  return super().drop(\n"
     ]
    }
   ],
   "source": [
    "df_clean.drop(['apache_2_diagnosis','apache_2_bodysystem'],axis = 1,inplace=True)"
   ]
  },
  {
   "cell_type": "code",
   "execution_count": 304,
   "metadata": {
    "ExecuteTime": {
     "end_time": "2022-04-22T06:41:33.655942Z",
     "start_time": "2022-04-22T06:41:33.635045Z"
    }
   },
   "outputs": [
    {
     "name": "stdout",
     "output_type": "stream",
     "text": [
      "<class 'pandas.core.frame.DataFrame'>\n",
      "Int64Index: 57544 entries, 0 to 91712\n",
      "Data columns (total 77 columns):\n",
      " #   Column                         Non-Null Count  Dtype  \n",
      "---  ------                         --------------  -----  \n",
      " 0   age                            57544 non-null  float64\n",
      " 1   bmi                            57544 non-null  float64\n",
      " 2   elective_surgery               57544 non-null  int64  \n",
      " 3   gender                         57544 non-null  object \n",
      " 4   height                         57544 non-null  float64\n",
      " 5   icu_admit_source               57544 non-null  object \n",
      " 6   icu_stay_type                  57544 non-null  object \n",
      " 7   icu_type                       57544 non-null  object \n",
      " 8   pre_icu_los_days               57544 non-null  float64\n",
      " 9   weight                         57544 non-null  float64\n",
      " 10  apache_3j_diagnosis            57544 non-null  float64\n",
      " 11  apache_post_operative          57544 non-null  int64  \n",
      " 12  arf_apache                     57544 non-null  float64\n",
      " 13  gcs_eyes_apache                57544 non-null  float64\n",
      " 14  gcs_motor_apache               57544 non-null  float64\n",
      " 15  gcs_unable_apache              57544 non-null  float64\n",
      " 16  gcs_verbal_apache              57544 non-null  float64\n",
      " 17  heart_rate_apache              57544 non-null  float64\n",
      " 18  intubated_apache               57544 non-null  float64\n",
      " 19  map_apache                     57544 non-null  float64\n",
      " 20  resprate_apache                57544 non-null  float64\n",
      " 21  temp_apache                    57544 non-null  float64\n",
      " 22  ventilated_apache              57544 non-null  float64\n",
      " 23  d1_diasbp_max                  57544 non-null  float64\n",
      " 24  d1_diasbp_min                  57544 non-null  float64\n",
      " 25  d1_diasbp_noninvasive_max      57544 non-null  float64\n",
      " 26  d1_diasbp_noninvasive_min      57544 non-null  float64\n",
      " 27  d1_heartrate_max               57544 non-null  float64\n",
      " 28  d1_heartrate_min               57544 non-null  float64\n",
      " 29  d1_mbp_max                     57544 non-null  float64\n",
      " 30  d1_mbp_min                     57544 non-null  float64\n",
      " 31  d1_mbp_noninvasive_max         57544 non-null  float64\n",
      " 32  d1_mbp_noninvasive_min         57544 non-null  float64\n",
      " 33  d1_resprate_max                57544 non-null  float64\n",
      " 34  d1_resprate_min                57544 non-null  float64\n",
      " 35  d1_spo2_max                    57544 non-null  float64\n",
      " 36  d1_spo2_min                    57544 non-null  float64\n",
      " 37  d1_sysbp_max                   57544 non-null  float64\n",
      " 38  d1_sysbp_min                   57544 non-null  float64\n",
      " 39  d1_sysbp_noninvasive_max       57544 non-null  float64\n",
      " 40  d1_sysbp_noninvasive_min       57544 non-null  float64\n",
      " 41  d1_temp_max                    57544 non-null  float64\n",
      " 42  d1_temp_min                    57544 non-null  float64\n",
      " 43  h1_diasbp_max                  57544 non-null  float64\n",
      " 44  h1_diasbp_min                  57544 non-null  float64\n",
      " 45  h1_diasbp_noninvasive_max      57544 non-null  float64\n",
      " 46  h1_diasbp_noninvasive_min      57544 non-null  float64\n",
      " 47  h1_heartrate_max               57544 non-null  float64\n",
      " 48  h1_heartrate_min               57544 non-null  float64\n",
      " 49  h1_mbp_max                     57544 non-null  float64\n",
      " 50  h1_mbp_min                     57544 non-null  float64\n",
      " 51  h1_mbp_noninvasive_max         57544 non-null  float64\n",
      " 52  h1_mbp_noninvasive_min         57544 non-null  float64\n",
      " 53  h1_resprate_max                57544 non-null  float64\n",
      " 54  h1_resprate_min                57544 non-null  float64\n",
      " 55  h1_spo2_max                    57544 non-null  float64\n",
      " 56  h1_spo2_min                    57544 non-null  float64\n",
      " 57  h1_sysbp_max                   57544 non-null  float64\n",
      " 58  h1_sysbp_min                   57544 non-null  float64\n",
      " 59  h1_sysbp_noninvasive_max       57544 non-null  float64\n",
      " 60  h1_sysbp_noninvasive_min       57544 non-null  float64\n",
      " 61  d1_glucose_max                 57544 non-null  float64\n",
      " 62  d1_glucose_min                 57544 non-null  float64\n",
      " 63  d1_potassium_max               57544 non-null  float64\n",
      " 64  d1_potassium_min               57544 non-null  float64\n",
      " 65  apache_4a_hospital_death_prob  57544 non-null  float64\n",
      " 66  apache_4a_icu_death_prob       57544 non-null  float64\n",
      " 67  aids                           57544 non-null  float64\n",
      " 68  cirrhosis                      57544 non-null  float64\n",
      " 69  diabetes_mellitus              57544 non-null  float64\n",
      " 70  hepatic_failure                57544 non-null  float64\n",
      " 71  immunosuppression              57544 non-null  float64\n",
      " 72  leukemia                       57544 non-null  float64\n",
      " 73  lymphoma                       57544 non-null  float64\n",
      " 74  solid_tumor_with_metastasis    57544 non-null  float64\n",
      " 75  apache_3j_bodysystem           57544 non-null  object \n",
      " 76  hospital_death                 57544 non-null  int64  \n",
      "dtypes: float64(69), int64(3), object(5)\n",
      "memory usage: 34.2+ MB\n"
     ]
    }
   ],
   "source": [
    "df_clean.info()"
   ]
  },
  {
   "cell_type": "code",
   "execution_count": 305,
   "metadata": {
    "ExecuteTime": {
     "end_time": "2022-04-22T06:41:33.659160Z",
     "start_time": "2022-04-22T06:41:33.657254Z"
    }
   },
   "outputs": [],
   "source": [
    "num_columns.remove('apache_2_diagnosis')\n",
    "num_columns.remove('apache_2_bodysystem')"
   ]
  },
  {
   "cell_type": "code",
   "execution_count": 306,
   "metadata": {
    "ExecuteTime": {
     "end_time": "2022-04-22T06:41:33.663256Z",
     "start_time": "2022-04-22T06:41:33.660092Z"
    }
   },
   "outputs": [],
   "source": [
    "numeric_df = df_clean[num_columns]"
   ]
  },
  {
   "cell_type": "code",
   "execution_count": 307,
   "metadata": {
    "ExecuteTime": {
     "end_time": "2022-04-22T06:41:33.666573Z",
     "start_time": "2022-04-22T06:41:33.664377Z"
    }
   },
   "outputs": [
    {
     "data": {
      "text/plain": [
       "(57544, 53)"
      ]
     },
     "execution_count": 307,
     "metadata": {},
     "output_type": "execute_result"
    }
   ],
   "source": [
    "numeric_df.shape"
   ]
  },
  {
   "cell_type": "code",
   "execution_count": 308,
   "metadata": {
    "ExecuteTime": {
     "end_time": "2022-04-22T06:41:33.669159Z",
     "start_time": "2022-04-22T06:41:33.667709Z"
    }
   },
   "outputs": [],
   "source": [
    "# Visualize numerical columns"
   ]
  },
  {
   "cell_type": "code",
   "execution_count": 309,
   "metadata": {
    "ExecuteTime": {
     "end_time": "2022-04-22T06:41:34.030697Z",
     "start_time": "2022-04-22T06:41:33.670089Z"
    }
   },
   "outputs": [],
   "source": [
    "unpivot = pd.melt(numeric_df, numeric_df.describe().columns[0], numeric_df.describe().columns[1:])"
   ]
  },
  {
   "cell_type": "code",
   "execution_count": 310,
   "metadata": {
    "ExecuteTime": {
     "end_time": "2022-04-22T06:41:50.558352Z",
     "start_time": "2022-04-22T06:41:34.031854Z"
    }
   },
   "outputs": [
    {
     "data": {
      "image/png": "[encoded data removed]",
      "text/plain": [
       "<Figure size 648x3888 with 52 Axes>"
      ]
     },
     "metadata": {
      "needs_background": "light"
     },
     "output_type": "display_data"
    }
   ],
   "source": [
    "fig1 = sns.FacetGrid(unpivot, col = 'variable', col_wrap = 3,\n",
    "                    sharex = False, sharey = False)\n",
    "fig1.map(sns.kdeplot, \"value\")\n",
    "plt.show()"
   ]
  },
  {
   "cell_type": "code",
   "execution_count": 311,
   "metadata": {
    "ExecuteTime": {
     "end_time": "2022-04-22T06:41:50.560768Z",
     "start_time": "2022-04-22T06:41:50.559305Z"
    }
   },
   "outputs": [],
   "source": [
    "# Remove death probabilities with values less than zero"
   ]
  },
  {
   "cell_type": "code",
   "execution_count": 312,
   "metadata": {
    "ExecuteTime": {
     "end_time": "2022-04-22T06:41:50.571714Z",
     "start_time": "2022-04-22T06:41:50.561582Z"
    }
   },
   "outputs": [],
   "source": [
    "df_clean = df_clean[(df_clean['apache_4a_hospital_death_prob']>=0) & (df_clean['apache_4a_icu_death_prob']>=0)]"
   ]
  },
  {
   "cell_type": "code",
   "execution_count": 313,
   "metadata": {
    "ExecuteTime": {
     "end_time": "2022-04-22T06:41:50.574150Z",
     "start_time": "2022-04-22T06:41:50.572719Z"
    }
   },
   "outputs": [],
   "source": [
    "# creating dataframe for categorical variables "
   ]
  },
  {
   "cell_type": "code",
   "execution_count": 314,
   "metadata": {
    "ExecuteTime": {
     "end_time": "2022-04-22T06:41:50.580211Z",
     "start_time": "2022-04-22T06:41:50.575042Z"
    }
   },
   "outputs": [],
   "source": [
    "cat_df = df_clean[cat_columns]"
   ]
  },
  {
   "cell_type": "code",
   "execution_count": 315,
   "metadata": {
    "ExecuteTime": {
     "end_time": "2022-04-22T06:41:50.582400Z",
     "start_time": "2022-04-22T06:41:50.581077Z"
    }
   },
   "outputs": [],
   "source": [
    "# Look at categories to be OneHotEncoded"
   ]
  },
  {
   "cell_type": "code",
   "execution_count": 316,
   "metadata": {
    "ExecuteTime": {
     "end_time": "2022-04-22T06:41:50.591335Z",
     "start_time": "2022-04-22T06:41:50.583235Z"
    }
   },
   "outputs": [
    {
     "data": {
      "text/plain": [
       "Accident & Emergency         34626\n",
       "Operating Room / Recovery    10248\n",
       "Floor                         9850\n",
       "Other Hospital                1689\n",
       "Other ICU                       81\n",
       "Name: icu_admit_source, dtype: int64"
      ]
     },
     "execution_count": 316,
     "metadata": {},
     "output_type": "execute_result"
    }
   ],
   "source": [
    "cat_df.icu_admit_source.value_counts()"
   ]
  },
  {
   "cell_type": "code",
   "execution_count": 317,
   "metadata": {
    "ExecuteTime": {
     "end_time": "2022-04-22T06:41:50.600370Z",
     "start_time": "2022-04-22T06:41:50.592533Z"
    }
   },
   "outputs": [
    {
     "data": {
      "text/plain": [
       "admit       52957\n",
       "transfer     3453\n",
       "readmit        84\n",
       "Name: icu_stay_type, dtype: int64"
      ]
     },
     "execution_count": 317,
     "metadata": {},
     "output_type": "execute_result"
    }
   ],
   "source": [
    "cat_df.icu_stay_type.value_counts()"
   ]
  },
  {
   "cell_type": "code",
   "execution_count": 318,
   "metadata": {
    "ExecuteTime": {
     "end_time": "2022-04-22T06:41:50.606683Z",
     "start_time": "2022-04-22T06:41:50.601175Z"
    }
   },
   "outputs": [
    {
     "data": {
      "text/html": [
       "<div>\n",
       "<style scoped>\n",
       "    .dataframe tbody tr th:only-of-type {\n",
       "        vertical-align: middle;\n",
       "    }\n",
       "\n",
       "    .dataframe tbody tr th {\n",
       "        vertical-align: top;\n",
       "    }\n",
       "\n",
       "    .dataframe thead th {\n",
       "        text-align: right;\n",
       "    }\n",
       "</style>\n",
       "<table border=\"1\" class=\"dataframe\">\n",
       "  <thead>\n",
       "    <tr style=\"text-align: right;\">\n",
       "      <th></th>\n",
       "      <th>apache_3j_diagnosis</th>\n",
       "    </tr>\n",
       "  </thead>\n",
       "  <tbody>\n",
       "    <tr>\n",
       "      <th>1202.01</th>\n",
       "      <td>1</td>\n",
       "    </tr>\n",
       "    <tr>\n",
       "      <th>1408.11</th>\n",
       "      <td>1</td>\n",
       "    </tr>\n",
       "    <tr>\n",
       "      <th>1304.03</th>\n",
       "      <td>1</td>\n",
       "    </tr>\n",
       "    <tr>\n",
       "      <th>1101.05</th>\n",
       "      <td>1</td>\n",
       "    </tr>\n",
       "    <tr>\n",
       "      <th>1101.02</th>\n",
       "      <td>1</td>\n",
       "    </tr>\n",
       "    <tr>\n",
       "      <th>1604.04</th>\n",
       "      <td>1</td>\n",
       "    </tr>\n",
       "    <tr>\n",
       "      <th>901.07</th>\n",
       "      <td>1</td>\n",
       "    </tr>\n",
       "    <tr>\n",
       "      <th>1604.02</th>\n",
       "      <td>1</td>\n",
       "    </tr>\n",
       "    <tr>\n",
       "      <th>1604.01</th>\n",
       "      <td>1</td>\n",
       "    </tr>\n",
       "    <tr>\n",
       "      <th>408.03</th>\n",
       "      <td>1</td>\n",
       "    </tr>\n",
       "    <tr>\n",
       "      <th>1803.01</th>\n",
       "      <td>1</td>\n",
       "    </tr>\n",
       "    <tr>\n",
       "      <th>602.18</th>\n",
       "      <td>1</td>\n",
       "    </tr>\n",
       "    <tr>\n",
       "      <th>1705.05</th>\n",
       "      <td>1</td>\n",
       "    </tr>\n",
       "    <tr>\n",
       "      <th>1208.17</th>\n",
       "      <td>1</td>\n",
       "    </tr>\n",
       "    <tr>\n",
       "      <th>301.04</th>\n",
       "      <td>1</td>\n",
       "    </tr>\n",
       "    <tr>\n",
       "      <th>802.07</th>\n",
       "      <td>1</td>\n",
       "    </tr>\n",
       "  </tbody>\n",
       "</table>\n",
       "</div>"
      ],
      "text/plain": [
       "         apache_3j_diagnosis\n",
       "1202.01                    1\n",
       "1408.11                    1\n",
       "1304.03                    1\n",
       "1101.05                    1\n",
       "1101.02                    1\n",
       "1604.04                    1\n",
       "901.07                     1\n",
       "1604.02                    1\n",
       "1604.01                    1\n",
       "408.03                     1\n",
       "1803.01                    1\n",
       "602.18                     1\n",
       "1705.05                    1\n",
       "1208.17                    1\n",
       "301.04                     1\n",
       "802.07                     1"
      ]
     },
     "execution_count": 318,
     "metadata": {},
     "output_type": "execute_result"
    }
   ],
   "source": [
    "cat_df_apache = cat_df.apache_3j_diagnosis.value_counts().to_frame()\n",
    "cat_df_apache[cat_df_apache['apache_3j_diagnosis']==1]"
   ]
  },
  {
   "cell_type": "code",
   "execution_count": 319,
   "metadata": {
    "ExecuteTime": {
     "end_time": "2022-04-22T06:41:50.616161Z",
     "start_time": "2022-04-22T06:41:50.607878Z"
    }
   },
   "outputs": [
    {
     "data": {
      "text/plain": [
       "Cardiovascular          17189\n",
       "Sepsis                   8210\n",
       "Respiratory              7537\n",
       "Neurological             7457\n",
       "Gastrointestinal         5923\n",
       "Metabolic                5129\n",
       "Trauma                   2397\n",
       "Genitourinary            1393\n",
       "Musculoskeletal/Skin      674\n",
       "Hematological             427\n",
       "Gynecological             158\n",
       "Name: apache_3j_bodysystem, dtype: int64"
      ]
     },
     "execution_count": 319,
     "metadata": {},
     "output_type": "execute_result"
    }
   ],
   "source": [
    "cat_df.apache_3j_bodysystem.value_counts()"
   ]
  },
  {
   "cell_type": "code",
   "execution_count": 320,
   "metadata": {
    "ExecuteTime": {
     "end_time": "2022-04-22T06:41:50.618429Z",
     "start_time": "2022-04-22T06:41:50.617032Z"
    }
   },
   "outputs": [],
   "source": [
    "# Train-test split"
   ]
  },
  {
   "cell_type": "markdown",
   "metadata": {},
   "source": [
    "X = df_clean.drop('hospital_death',axis =1)\n",
    "y = df_clean.hospital_death\n",
    "X_train, X_test, y_train, y_test = train_test_split(X,y, random_state=42)"
   ]
  },
  {
   "cell_type": "code",
   "execution_count": 321,
   "metadata": {
    "ExecuteTime": {
     "end_time": "2022-04-22T06:41:50.620808Z",
     "start_time": "2022-04-22T06:41:50.619377Z"
    }
   },
   "outputs": [],
   "source": [
    "# creating numerical and categorical piplines"
   ]
  },
  {
   "cell_type": "code",
   "execution_count": 322,
   "metadata": {
    "ExecuteTime": {
     "end_time": "2022-04-22T06:41:50.623772Z",
     "start_time": "2022-04-22T06:41:50.621891Z"
    }
   },
   "outputs": [],
   "source": [
    "subpipe_num = Pipeline(steps=[('ss', StandardScaler())])\n",
    "                              \n",
    "subpipe_cat = Pipeline(steps=[('ohe', OneHotEncoder(sparse=False, handle_unknown='ignore'))])\n",
    "                                                            "
   ]
  },
  {
   "cell_type": "code",
   "execution_count": 323,
   "metadata": {
    "ExecuteTime": {
     "end_time": "2022-04-22T06:41:50.626285Z",
     "start_time": "2022-04-22T06:41:50.624609Z"
    }
   },
   "outputs": [],
   "source": [
    "# creating column transformer"
   ]
  },
  {
   "cell_type": "code",
   "execution_count": 324,
   "metadata": {
    "ExecuteTime": {
     "end_time": "2022-04-22T06:41:50.628725Z",
     "start_time": "2022-04-22T06:41:50.627127Z"
    }
   },
   "outputs": [],
   "source": [
    "ct = ColumnTransformer(transformers=[\n",
    "    ('subpipe_num', subpipe_num, num_columns),\n",
    "    ('subpipe_cat', subpipe_cat, [3,5,6,7,10,75])\n",
    "],remainder='passthrough')"
   ]
  },
  {
   "cell_type": "code",
   "execution_count": 325,
   "metadata": {
    "ExecuteTime": {
     "end_time": "2022-04-22T06:41:50.747511Z",
     "start_time": "2022-04-22T06:41:50.629609Z"
    }
   },
   "outputs": [
    {
     "data": {
      "text/html": [
       "<div>\n",
       "<style scoped>\n",
       "    .dataframe tbody tr th:only-of-type {\n",
       "        vertical-align: middle;\n",
       "    }\n",
       "\n",
       "    .dataframe tbody tr th {\n",
       "        vertical-align: top;\n",
       "    }\n",
       "\n",
       "    .dataframe thead th {\n",
       "        text-align: right;\n",
       "    }\n",
       "</style>\n",
       "<table border=\"1\" class=\"dataframe\">\n",
       "  <thead>\n",
       "    <tr style=\"text-align: right;\">\n",
       "      <th></th>\n",
       "      <th>0</th>\n",
       "      <th>1</th>\n",
       "      <th>2</th>\n",
       "      <th>3</th>\n",
       "      <th>4</th>\n",
       "      <th>5</th>\n",
       "      <th>6</th>\n",
       "      <th>7</th>\n",
       "      <th>8</th>\n",
       "      <th>9</th>\n",
       "      <th>...</th>\n",
       "      <th>461</th>\n",
       "      <th>462</th>\n",
       "      <th>463</th>\n",
       "      <th>464</th>\n",
       "      <th>465</th>\n",
       "      <th>466</th>\n",
       "      <th>467</th>\n",
       "      <th>468</th>\n",
       "      <th>469</th>\n",
       "      <th>470</th>\n",
       "    </tr>\n",
       "  </thead>\n",
       "  <tbody>\n",
       "    <tr>\n",
       "      <th>0</th>\n",
       "      <td>-1.294613</td>\n",
       "      <td>-0.590808</td>\n",
       "      <td>-0.168721</td>\n",
       "      <td>-0.284364</td>\n",
       "      <td>-0.623946</td>\n",
       "      <td>0.874890</td>\n",
       "      <td>-0.896088</td>\n",
       "      <td>0.256745</td>\n",
       "      <td>0.447923</td>\n",
       "      <td>0.225138</td>\n",
       "      <td>...</td>\n",
       "      <td>0.0</td>\n",
       "      <td>1.0</td>\n",
       "      <td>0.0</td>\n",
       "      <td>0.0</td>\n",
       "      <td>0.0</td>\n",
       "      <td>0.0</td>\n",
       "      <td>0.0</td>\n",
       "      <td>0.0</td>\n",
       "      <td>0.0</td>\n",
       "      <td>0.0</td>\n",
       "    </tr>\n",
       "    <tr>\n",
       "      <th>1</th>\n",
       "      <td>0.267945</td>\n",
       "      <td>0.870446</td>\n",
       "      <td>0.505586</td>\n",
       "      <td>-0.140531</td>\n",
       "      <td>1.105828</td>\n",
       "      <td>0.228492</td>\n",
       "      <td>-0.942980</td>\n",
       "      <td>0.784011</td>\n",
       "      <td>-0.375692</td>\n",
       "      <td>-1.101726</td>\n",
       "      <td>...</td>\n",
       "      <td>0.0</td>\n",
       "      <td>0.0</td>\n",
       "      <td>0.0</td>\n",
       "      <td>0.0</td>\n",
       "      <td>0.0</td>\n",
       "      <td>0.0</td>\n",
       "      <td>0.0</td>\n",
       "      <td>0.0</td>\n",
       "      <td>0.0</td>\n",
       "      <td>0.0</td>\n",
       "    </tr>\n",
       "    <tr>\n",
       "      <th>2</th>\n",
       "      <td>-0.573433</td>\n",
       "      <td>-1.726964</td>\n",
       "      <td>1.447386</td>\n",
       "      <td>0.555516</td>\n",
       "      <td>-1.319051</td>\n",
       "      <td>1.585928</td>\n",
       "      <td>-0.591291</td>\n",
       "      <td>0.388561</td>\n",
       "      <td>-0.140373</td>\n",
       "      <td>1.500968</td>\n",
       "      <td>...</td>\n",
       "      <td>0.0</td>\n",
       "      <td>0.0</td>\n",
       "      <td>0.0</td>\n",
       "      <td>0.0</td>\n",
       "      <td>0.0</td>\n",
       "      <td>0.0</td>\n",
       "      <td>1.0</td>\n",
       "      <td>0.0</td>\n",
       "      <td>0.0</td>\n",
       "      <td>1.0</td>\n",
       "    </tr>\n",
       "    <tr>\n",
       "      <th>3</th>\n",
       "      <td>-0.934023</td>\n",
       "      <td>-0.982078</td>\n",
       "      <td>-0.679560</td>\n",
       "      <td>-0.276658</td>\n",
       "      <td>-1.143277</td>\n",
       "      <td>0.131532</td>\n",
       "      <td>-0.239601</td>\n",
       "      <td>-0.072797</td>\n",
       "      <td>0.212605</td>\n",
       "      <td>0.021005</td>\n",
       "      <td>...</td>\n",
       "      <td>0.0</td>\n",
       "      <td>0.0</td>\n",
       "      <td>0.0</td>\n",
       "      <td>0.0</td>\n",
       "      <td>0.0</td>\n",
       "      <td>0.0</td>\n",
       "      <td>0.0</td>\n",
       "      <td>0.0</td>\n",
       "      <td>0.0</td>\n",
       "      <td>0.0</td>\n",
       "    </tr>\n",
       "    <tr>\n",
       "      <th>4</th>\n",
       "      <td>-0.393137</td>\n",
       "      <td>-0.948933</td>\n",
       "      <td>-0.911759</td>\n",
       "      <td>-0.163932</td>\n",
       "      <td>-1.183226</td>\n",
       "      <td>-1.710703</td>\n",
       "      <td>1.401616</td>\n",
       "      <td>0.586286</td>\n",
       "      <td>-0.140373</td>\n",
       "      <td>2.725766</td>\n",
       "      <td>...</td>\n",
       "      <td>0.0</td>\n",
       "      <td>0.0</td>\n",
       "      <td>0.0</td>\n",
       "      <td>0.0</td>\n",
       "      <td>0.0</td>\n",
       "      <td>0.0</td>\n",
       "      <td>0.0</td>\n",
       "      <td>0.0</td>\n",
       "      <td>0.0</td>\n",
       "      <td>0.0</td>\n",
       "    </tr>\n",
       "    <tr>\n",
       "      <th>...</th>\n",
       "      <td>...</td>\n",
       "      <td>...</td>\n",
       "      <td>...</td>\n",
       "      <td>...</td>\n",
       "      <td>...</td>\n",
       "      <td>...</td>\n",
       "      <td>...</td>\n",
       "      <td>...</td>\n",
       "      <td>...</td>\n",
       "      <td>...</td>\n",
       "      <td>...</td>\n",
       "      <td>...</td>\n",
       "      <td>...</td>\n",
       "      <td>...</td>\n",
       "      <td>...</td>\n",
       "      <td>...</td>\n",
       "      <td>...</td>\n",
       "      <td>...</td>\n",
       "      <td>...</td>\n",
       "      <td>...</td>\n",
       "      <td>...</td>\n",
       "    </tr>\n",
       "    <tr>\n",
       "      <th>42365</th>\n",
       "      <td>1.469913</td>\n",
       "      <td>0.173122</td>\n",
       "      <td>0.267814</td>\n",
       "      <td>2.569457</td>\n",
       "      <td>0.286882</td>\n",
       "      <td>-0.159347</td>\n",
       "      <td>-0.896088</td>\n",
       "      <td>-1.127330</td>\n",
       "      <td>-0.140373</td>\n",
       "      <td>-1.407926</td>\n",
       "      <td>...</td>\n",
       "      <td>1.0</td>\n",
       "      <td>1.0</td>\n",
       "      <td>0.0</td>\n",
       "      <td>0.0</td>\n",
       "      <td>1.0</td>\n",
       "      <td>0.0</td>\n",
       "      <td>0.0</td>\n",
       "      <td>0.0</td>\n",
       "      <td>0.0</td>\n",
       "      <td>0.0</td>\n",
       "    </tr>\n",
       "    <tr>\n",
       "      <th>42366</th>\n",
       "      <td>-0.813826</td>\n",
       "      <td>-0.395861</td>\n",
       "      <td>1.131595</td>\n",
       "      <td>-0.287218</td>\n",
       "      <td>0.067165</td>\n",
       "      <td>-1.872302</td>\n",
       "      <td>0.792021</td>\n",
       "      <td>-0.797788</td>\n",
       "      <td>0.353796</td>\n",
       "      <td>0.684437</td>\n",
       "      <td>...</td>\n",
       "      <td>0.0</td>\n",
       "      <td>0.0</td>\n",
       "      <td>0.0</td>\n",
       "      <td>0.0</td>\n",
       "      <td>0.0</td>\n",
       "      <td>0.0</td>\n",
       "      <td>0.0</td>\n",
       "      <td>0.0</td>\n",
       "      <td>0.0</td>\n",
       "      <td>0.0</td>\n",
       "    </tr>\n",
       "    <tr>\n",
       "      <th>42367</th>\n",
       "      <td>-0.633531</td>\n",
       "      <td>0.615526</td>\n",
       "      <td>-0.670272</td>\n",
       "      <td>-0.246123</td>\n",
       "      <td>0.258918</td>\n",
       "      <td>-1.839983</td>\n",
       "      <td>1.776751</td>\n",
       "      <td>0.784011</td>\n",
       "      <td>0.330264</td>\n",
       "      <td>0.582370</td>\n",
       "      <td>...</td>\n",
       "      <td>0.0</td>\n",
       "      <td>0.0</td>\n",
       "      <td>0.0</td>\n",
       "      <td>0.0</td>\n",
       "      <td>0.0</td>\n",
       "      <td>0.0</td>\n",
       "      <td>0.0</td>\n",
       "      <td>0.0</td>\n",
       "      <td>0.0</td>\n",
       "      <td>0.0</td>\n",
       "    </tr>\n",
       "    <tr>\n",
       "      <th>42368</th>\n",
       "      <td>0.207847</td>\n",
       "      <td>-1.404148</td>\n",
       "      <td>-0.447361</td>\n",
       "      <td>-0.284364</td>\n",
       "      <td>-1.454876</td>\n",
       "      <td>0.551691</td>\n",
       "      <td>-0.474061</td>\n",
       "      <td>0.322653</td>\n",
       "      <td>0.212605</td>\n",
       "      <td>-0.336228</td>\n",
       "      <td>...</td>\n",
       "      <td>0.0</td>\n",
       "      <td>1.0</td>\n",
       "      <td>0.0</td>\n",
       "      <td>0.0</td>\n",
       "      <td>0.0</td>\n",
       "      <td>0.0</td>\n",
       "      <td>0.0</td>\n",
       "      <td>0.0</td>\n",
       "      <td>0.0</td>\n",
       "      <td>0.0</td>\n",
       "    </tr>\n",
       "    <tr>\n",
       "      <th>42369</th>\n",
       "      <td>0.748732</td>\n",
       "      <td>-0.535915</td>\n",
       "      <td>0.741500</td>\n",
       "      <td>0.823489</td>\n",
       "      <td>-0.236445</td>\n",
       "      <td>-0.127027</td>\n",
       "      <td>-0.966426</td>\n",
       "      <td>-0.929605</td>\n",
       "      <td>0.800901</td>\n",
       "      <td>2.980932</td>\n",
       "      <td>...</td>\n",
       "      <td>0.0</td>\n",
       "      <td>0.0</td>\n",
       "      <td>0.0</td>\n",
       "      <td>0.0</td>\n",
       "      <td>0.0</td>\n",
       "      <td>0.0</td>\n",
       "      <td>0.0</td>\n",
       "      <td>0.0</td>\n",
       "      <td>0.0</td>\n",
       "      <td>0.0</td>\n",
       "    </tr>\n",
       "  </tbody>\n",
       "</table>\n",
       "<p>42370 rows × 471 columns</p>\n",
       "</div>"
      ],
      "text/plain": [
       "            0         1         2         3         4         5         6    \\\n",
       "0     -1.294613 -0.590808 -0.168721 -0.284364 -0.623946  0.874890 -0.896088   \n",
       "1      0.267945  0.870446  0.505586 -0.140531  1.105828  0.228492 -0.942980   \n",
       "2     -0.573433 -1.726964  1.447386  0.555516 -1.319051  1.585928 -0.591291   \n",
       "3     -0.934023 -0.982078 -0.679560 -0.276658 -1.143277  0.131532 -0.239601   \n",
       "4     -0.393137 -0.948933 -0.911759 -0.163932 -1.183226 -1.710703  1.401616   \n",
       "...         ...       ...       ...       ...       ...       ...       ...   \n",
       "42365  1.469913  0.173122  0.267814  2.569457  0.286882 -0.159347 -0.896088   \n",
       "42366 -0.813826 -0.395861  1.131595 -0.287218  0.067165 -1.872302  0.792021   \n",
       "42367 -0.633531  0.615526 -0.670272 -0.246123  0.258918 -1.839983  1.776751   \n",
       "42368  0.207847 -1.404148 -0.447361 -0.284364 -1.454876  0.551691 -0.474061   \n",
       "42369  0.748732 -0.535915  0.741500  0.823489 -0.236445 -0.127027 -0.966426   \n",
       "\n",
       "            7         8         9    ...  461  462  463  464  465  466  467  \\\n",
       "0      0.256745  0.447923  0.225138  ...  0.0  1.0  0.0  0.0  0.0  0.0  0.0   \n",
       "1      0.784011 -0.375692 -1.101726  ...  0.0  0.0  0.0  0.0  0.0  0.0  0.0   \n",
       "2      0.388561 -0.140373  1.500968  ...  0.0  0.0  0.0  0.0  0.0  0.0  1.0   \n",
       "3     -0.072797  0.212605  0.021005  ...  0.0  0.0  0.0  0.0  0.0  0.0  0.0   \n",
       "4      0.586286 -0.140373  2.725766  ...  0.0  0.0  0.0  0.0  0.0  0.0  0.0   \n",
       "...         ...       ...       ...  ...  ...  ...  ...  ...  ...  ...  ...   \n",
       "42365 -1.127330 -0.140373 -1.407926  ...  1.0  1.0  0.0  0.0  1.0  0.0  0.0   \n",
       "42366 -0.797788  0.353796  0.684437  ...  0.0  0.0  0.0  0.0  0.0  0.0  0.0   \n",
       "42367  0.784011  0.330264  0.582370  ...  0.0  0.0  0.0  0.0  0.0  0.0  0.0   \n",
       "42368  0.322653  0.212605 -0.336228  ...  0.0  1.0  0.0  0.0  0.0  0.0  0.0   \n",
       "42369 -0.929605  0.800901  2.980932  ...  0.0  0.0  0.0  0.0  0.0  0.0  0.0   \n",
       "\n",
       "       468  469  470  \n",
       "0      0.0  0.0  0.0  \n",
       "1      0.0  0.0  0.0  \n",
       "2      0.0  0.0  1.0  \n",
       "3      0.0  0.0  0.0  \n",
       "4      0.0  0.0  0.0  \n",
       "...    ...  ...  ...  \n",
       "42365  0.0  0.0  0.0  \n",
       "42366  0.0  0.0  0.0  \n",
       "42367  0.0  0.0  0.0  \n",
       "42368  0.0  0.0  0.0  \n",
       "42369  0.0  0.0  0.0  \n",
       "\n",
       "[42370 rows x 471 columns]"
      ]
     },
     "execution_count": 325,
     "metadata": {},
     "output_type": "execute_result"
    }
   ],
   "source": [
    "pd.DataFrame(ct.fit_transform(X_train))"
   ]
  },
  {
   "cell_type": "code",
   "execution_count": 326,
   "metadata": {
    "ExecuteTime": {
     "end_time": "2022-04-22T06:41:50.760945Z",
     "start_time": "2022-04-22T06:41:50.748780Z"
    }
   },
   "outputs": [
    {
     "data": {
      "text/html": [
       "<div>\n",
       "<style scoped>\n",
       "    .dataframe tbody tr th:only-of-type {\n",
       "        vertical-align: middle;\n",
       "    }\n",
       "\n",
       "    .dataframe tbody tr th {\n",
       "        vertical-align: top;\n",
       "    }\n",
       "\n",
       "    .dataframe thead th {\n",
       "        text-align: right;\n",
       "    }\n",
       "</style>\n",
       "<table border=\"1\" class=\"dataframe\">\n",
       "  <thead>\n",
       "    <tr style=\"text-align: right;\">\n",
       "      <th></th>\n",
       "      <th>age</th>\n",
       "      <th>bmi</th>\n",
       "      <th>elective_surgery</th>\n",
       "      <th>gender</th>\n",
       "      <th>height</th>\n",
       "      <th>icu_admit_source</th>\n",
       "      <th>icu_stay_type</th>\n",
       "      <th>icu_type</th>\n",
       "      <th>pre_icu_los_days</th>\n",
       "      <th>weight</th>\n",
       "      <th>...</th>\n",
       "      <th>apache_4a_icu_death_prob</th>\n",
       "      <th>aids</th>\n",
       "      <th>cirrhosis</th>\n",
       "      <th>diabetes_mellitus</th>\n",
       "      <th>hepatic_failure</th>\n",
       "      <th>immunosuppression</th>\n",
       "      <th>leukemia</th>\n",
       "      <th>lymphoma</th>\n",
       "      <th>solid_tumor_with_metastasis</th>\n",
       "      <th>apache_3j_bodysystem</th>\n",
       "    </tr>\n",
       "  </thead>\n",
       "  <tbody>\n",
       "    <tr>\n",
       "      <th>24500</th>\n",
       "      <td>41.0</td>\n",
       "      <td>24.376417</td>\n",
       "      <td>0</td>\n",
       "      <td>F</td>\n",
       "      <td>168.00</td>\n",
       "      <td>Accident &amp; Emergency</td>\n",
       "      <td>admit</td>\n",
       "      <td>Med-Surg ICU</td>\n",
       "      <td>0.131944</td>\n",
       "      <td>68.8</td>\n",
       "      <td>...</td>\n",
       "      <td>0.02</td>\n",
       "      <td>0.0</td>\n",
       "      <td>0.0</td>\n",
       "      <td>0.0</td>\n",
       "      <td>0.0</td>\n",
       "      <td>0.0</td>\n",
       "      <td>0.0</td>\n",
       "      <td>0.0</td>\n",
       "      <td>0.0</td>\n",
       "      <td>Metabolic</td>\n",
       "    </tr>\n",
       "    <tr>\n",
       "      <th>34062</th>\n",
       "      <td>67.0</td>\n",
       "      <td>36.495557</td>\n",
       "      <td>0</td>\n",
       "      <td>M</td>\n",
       "      <td>175.26</td>\n",
       "      <td>Accident &amp; Emergency</td>\n",
       "      <td>admit</td>\n",
       "      <td>Cardiac ICU</td>\n",
       "      <td>0.481944</td>\n",
       "      <td>112.1</td>\n",
       "      <td>...</td>\n",
       "      <td>0.02</td>\n",
       "      <td>0.0</td>\n",
       "      <td>0.0</td>\n",
       "      <td>0.0</td>\n",
       "      <td>0.0</td>\n",
       "      <td>0.0</td>\n",
       "      <td>0.0</td>\n",
       "      <td>0.0</td>\n",
       "      <td>0.0</td>\n",
       "      <td>Sepsis</td>\n",
       "    </tr>\n",
       "    <tr>\n",
       "      <th>33479</th>\n",
       "      <td>53.0</td>\n",
       "      <td>14.953528</td>\n",
       "      <td>0</td>\n",
       "      <td>M</td>\n",
       "      <td>185.40</td>\n",
       "      <td>Floor</td>\n",
       "      <td>admit</td>\n",
       "      <td>Med-Surg ICU</td>\n",
       "      <td>2.175694</td>\n",
       "      <td>51.4</td>\n",
       "      <td>...</td>\n",
       "      <td>0.02</td>\n",
       "      <td>0.0</td>\n",
       "      <td>0.0</td>\n",
       "      <td>0.0</td>\n",
       "      <td>0.0</td>\n",
       "      <td>1.0</td>\n",
       "      <td>0.0</td>\n",
       "      <td>0.0</td>\n",
       "      <td>1.0</td>\n",
       "      <td>Cardiovascular</td>\n",
       "    </tr>\n",
       "    <tr>\n",
       "      <th>30371</th>\n",
       "      <td>47.0</td>\n",
       "      <td>21.131361</td>\n",
       "      <td>0</td>\n",
       "      <td>F</td>\n",
       "      <td>162.50</td>\n",
       "      <td>Accident &amp; Emergency</td>\n",
       "      <td>admit</td>\n",
       "      <td>CSICU</td>\n",
       "      <td>0.150694</td>\n",
       "      <td>55.8</td>\n",
       "      <td>...</td>\n",
       "      <td>0.01</td>\n",
       "      <td>0.0</td>\n",
       "      <td>0.0</td>\n",
       "      <td>0.0</td>\n",
       "      <td>0.0</td>\n",
       "      <td>0.0</td>\n",
       "      <td>0.0</td>\n",
       "      <td>0.0</td>\n",
       "      <td>0.0</td>\n",
       "      <td>Metabolic</td>\n",
       "    </tr>\n",
       "    <tr>\n",
       "      <th>46665</th>\n",
       "      <td>56.0</td>\n",
       "      <td>21.406250</td>\n",
       "      <td>0</td>\n",
       "      <td>F</td>\n",
       "      <td>160.00</td>\n",
       "      <td>Floor</td>\n",
       "      <td>admit</td>\n",
       "      <td>SICU</td>\n",
       "      <td>0.425000</td>\n",
       "      <td>54.8</td>\n",
       "      <td>...</td>\n",
       "      <td>0.03</td>\n",
       "      <td>0.0</td>\n",
       "      <td>0.0</td>\n",
       "      <td>0.0</td>\n",
       "      <td>0.0</td>\n",
       "      <td>0.0</td>\n",
       "      <td>0.0</td>\n",
       "      <td>0.0</td>\n",
       "      <td>0.0</td>\n",
       "      <td>Neurological</td>\n",
       "    </tr>\n",
       "  </tbody>\n",
       "</table>\n",
       "<p>5 rows × 76 columns</p>\n",
       "</div>"
      ],
      "text/plain": [
       "        age        bmi  elective_surgery gender  height      icu_admit_source  \\\n",
       "24500  41.0  24.376417                 0      F  168.00  Accident & Emergency   \n",
       "34062  67.0  36.495557                 0      M  175.26  Accident & Emergency   \n",
       "33479  53.0  14.953528                 0      M  185.40                 Floor   \n",
       "30371  47.0  21.131361                 0      F  162.50  Accident & Emergency   \n",
       "46665  56.0  21.406250                 0      F  160.00                 Floor   \n",
       "\n",
       "      icu_stay_type      icu_type  pre_icu_los_days  weight  ...  \\\n",
       "24500         admit  Med-Surg ICU          0.131944    68.8  ...   \n",
       "34062         admit   Cardiac ICU          0.481944   112.1  ...   \n",
       "33479         admit  Med-Surg ICU          2.175694    51.4  ...   \n",
       "30371         admit         CSICU          0.150694    55.8  ...   \n",
       "46665         admit          SICU          0.425000    54.8  ...   \n",
       "\n",
       "       apache_4a_icu_death_prob  aids  cirrhosis  diabetes_mellitus  \\\n",
       "24500                      0.02   0.0        0.0                0.0   \n",
       "34062                      0.02   0.0        0.0                0.0   \n",
       "33479                      0.02   0.0        0.0                0.0   \n",
       "30371                      0.01   0.0        0.0                0.0   \n",
       "46665                      0.03   0.0        0.0                0.0   \n",
       "\n",
       "       hepatic_failure  immunosuppression  leukemia  lymphoma  \\\n",
       "24500              0.0                0.0       0.0       0.0   \n",
       "34062              0.0                0.0       0.0       0.0   \n",
       "33479              0.0                1.0       0.0       0.0   \n",
       "30371              0.0                0.0       0.0       0.0   \n",
       "46665              0.0                0.0       0.0       0.0   \n",
       "\n",
       "       solid_tumor_with_metastasis  apache_3j_bodysystem  \n",
       "24500                          0.0             Metabolic  \n",
       "34062                          0.0                Sepsis  \n",
       "33479                          1.0        Cardiovascular  \n",
       "30371                          0.0             Metabolic  \n",
       "46665                          0.0          Neurological  \n",
       "\n",
       "[5 rows x 76 columns]"
      ]
     },
     "execution_count": 326,
     "metadata": {},
     "output_type": "execute_result"
    }
   ],
   "source": [
    "X_train.head()"
   ]
  },
  {
   "cell_type": "markdown",
   "metadata": {},
   "source": [
    "## Modeling"
   ]
  },
  {
   "cell_type": "code",
   "execution_count": 327,
   "metadata": {
    "ExecuteTime": {
     "end_time": "2022-04-22T06:41:50.768336Z",
     "start_time": "2022-04-22T06:41:50.762301Z"
    }
   },
   "outputs": [],
   "source": [
    "from sklearn.model_selection import cross_val_score\n",
    "import numpy as np\n",
    "import seaborn as sns\n",
    "import matplotlib.pyplot as plt\n",
    "from sklearn.metrics import plot_confusion_matrix, f1_score, roc_auc_score, plot_roc_curve\n",
    "\n",
    "\n",
    "class ModelWithCV():\n",
    "    '''Structure to save the model and more easily see its crossvalidation'''\n",
    "\n",
    "    def __init__(self, model, model_name, X, y, cv_now=True):\n",
    "        self.model = model\n",
    "        self.name = model_name\n",
    "        self.X = X\n",
    "        self.y = y\n",
    "        # For CV results\n",
    "        self.cv_results = None\n",
    "        self.cv_mean = None\n",
    "        self.cv_median = None\n",
    "        self.cv_std = None\n",
    "        #\n",
    "        if cv_now:\n",
    "            self.cross_validate()\n",
    "\n",
    "    def cross_validate(self, X=None, y=None, kfolds=5):\n",
    "        '''\n",
    "        Perform cross-validation and return results.\n",
    "        Args:\n",
    "          X:\n",
    "            Optional; Training data to perform CV on. Otherwise use X from object\n",
    "          y:\n",
    "            Optional; Training data to perform CV on. Otherwise use y from object\n",
    "          kfolds:\n",
    "            Optional; Number of folds for CV (default is 10)\n",
    "        '''\n",
    "\n",
    "        cv_X = X if X else self.X\n",
    "        cv_y = y if y else self.y\n",
    "\n",
    "        self.cv_results = cross_val_score(self.model, cv_X, cv_y, cv=kfolds)\n",
    "        self.cv_mean = np.mean(self.cv_results)\n",
    "        self.cv_median = np.median(self.cv_results)\n",
    "        self.cv_std = np.std(self.cv_results)\n",
    "\n",
    "#     def print_cv_summary(self):\n",
    "#         cv_summary = (\n",
    "#             f'''CV Results for `{self.name}` model:\n",
    "#             {self.cv_mean:.5f} ± {self.cv_std:.5f} accuracy\n",
    "#         ''')\n",
    "#         print(cv_summary)\n",
    "\n",
    "    def plot_cv(self, ax):\n",
    "        '''\n",
    "        Plot the cross-validation values using the array of results and given\n",
    "        Axis for plotting.\n",
    "        '''\n",
    "        ax.set_title(f'CV Results for `{self.name}` Model')\n",
    "        # Thinner violinplot with higher bw\n",
    "        sns.violinplot(y=self.cv_results, ax=ax, bw=.4)\n",
    "        sns.swarmplot(\n",
    "            y=self.cv_results,\n",
    "            color='orange',\n",
    "            size=10,\n",
    "            alpha=0.8,\n",
    "            ax=ax\n",
    "        )\n",
    "\n",
    "        return ax\n",
    "\n",
    "    def print_summary(self):\n",
    "        roc = plot_roc_curve(self.model, self.X , self.y);\n",
    "        cm = plot_confusion_matrix(self.model, self.X, self.y);\n",
    "        preds = self.model.predict(self.X)\n",
    "        f1_ = f1_score(self.y, preds)\n",
    "        cv_summary = (\n",
    "            f'''CV Results for `{self.name}` model:\n",
    "            {self.cv_mean:.5f} ± {self.cv_std:.5f} accuracy\n",
    "        ''')\n",
    "\n",
    "        print(f' \\n  f1_score is {f1_}', cv_summary ,cm, roc)      "
   ]
  },
  {
   "cell_type": "code",
   "execution_count": 328,
   "metadata": {
    "ExecuteTime": {
     "end_time": "2022-04-22T06:41:50.771342Z",
     "start_time": "2022-04-22T06:41:50.769792Z"
    }
   },
   "outputs": [],
   "source": [
    "#Dummy model"
   ]
  },
  {
   "cell_type": "code",
   "execution_count": 329,
   "metadata": {
    "ExecuteTime": {
     "end_time": "2022-04-22T06:41:50.774285Z",
     "start_time": "2022-04-22T06:41:50.772327Z"
    }
   },
   "outputs": [],
   "source": [
    "imb_dummy_pipe = imbPipeline(steps=[('ct', ct),\n",
    "                             ('sm', SMOTE(random_state=42)),\n",
    "                             ('dummy',DummyClassifier())\n",
    "                             ],verbose=True)"
   ]
  },
  {
   "cell_type": "code",
   "execution_count": 330,
   "metadata": {
    "ExecuteTime": {
     "end_time": "2022-04-22T06:41:51.388264Z",
     "start_time": "2022-04-22T06:41:50.775290Z"
    }
   },
   "outputs": [
    {
     "name": "stdout",
     "output_type": "stream",
     "text": [
      "[Pipeline] ................ (step 1 of 3) Processing ct, total=   0.1s\n",
      "[Pipeline] ................ (step 2 of 3) Processing sm, total=   0.5s\n",
      "[Pipeline] ............. (step 3 of 3) Processing dummy, total=   0.0s\n"
     ]
    },
    {
     "data": {
      "text/plain": [
       "Pipeline(steps=[('ct',\n",
       "                 ColumnTransformer(remainder='passthrough',\n",
       "                                   transformers=[('subpipe_num',\n",
       "                                                  Pipeline(steps=[('ss',\n",
       "                                                                   StandardScaler())]),\n",
       "                                                  ['age', 'bmi', 'height',\n",
       "                                                   'pre_icu_los_days', 'weight',\n",
       "                                                   'heart_rate_apache',\n",
       "                                                   'map_apache',\n",
       "                                                   'resprate_apache',\n",
       "                                                   'temp_apache',\n",
       "                                                   'd1_diasbp_max',\n",
       "                                                   'd1_diasbp_min',\n",
       "                                                   'd1_diasbp_noninvasive_max',\n",
       "                                                   'd1_diasbp_noninvasive_min',\n",
       "                                                   'd1_heartrat...\n",
       "                                                   'd1_resprate_min',\n",
       "                                                   'd1_spo2_max', 'd1_spo2_min',\n",
       "                                                   'd1_sysbp_max',\n",
       "                                                   'd1_sysbp_min',\n",
       "                                                   'd1_sysbp_noninvasive_max',\n",
       "                                                   'd1_sysbp_noninvasive_min',\n",
       "                                                   'd1_temp_max', 'd1_temp_min',\n",
       "                                                   'h1_diasbp_max', ...]),\n",
       "                                                 ('subpipe_cat',\n",
       "                                                  Pipeline(steps=[('ohe',\n",
       "                                                                   OneHotEncoder(handle_unknown='ignore',\n",
       "                                                                                 sparse=False))]),\n",
       "                                                  [3, 5, 6, 7, 10, 75])])),\n",
       "                ('sm', SMOTE(random_state=42)), ('dummy', DummyClassifier())],\n",
       "         verbose=True)"
      ]
     },
     "execution_count": 330,
     "metadata": {},
     "output_type": "execute_result"
    }
   ],
   "source": [
    "imb_dummy_pipe.fit(X_train,y_train)"
   ]
  },
  {
   "cell_type": "code",
   "execution_count": 331,
   "metadata": {
    "ExecuteTime": {
     "end_time": "2022-04-22T06:41:51.457062Z",
     "start_time": "2022-04-22T06:41:51.389391Z"
    }
   },
   "outputs": [
    {
     "data": {
      "text/plain": [
       "0.9132168987491149"
      ]
     },
     "execution_count": 331,
     "metadata": {},
     "output_type": "execute_result"
    }
   ],
   "source": [
    "imb_dummy_pipe.score(X_train,y_train)"
   ]
  },
  {
   "cell_type": "code",
   "execution_count": 332,
   "metadata": {
    "ExecuteTime": {
     "end_time": "2022-04-22T06:41:52.866682Z",
     "start_time": "2022-04-22T06:41:51.458488Z"
    }
   },
   "outputs": [
    {
     "name": "stdout",
     "output_type": "stream",
     "text": [
      "[Pipeline] ................ (step 1 of 3) Processing ct, total=   0.1s\n",
      "[Pipeline] ................ (step 2 of 3) Processing sm, total=   0.2s\n",
      "[Pipeline] ............. (step 3 of 3) Processing dummy, total=   0.0s\n",
      "[Pipeline] ................ (step 1 of 3) Processing ct, total=   0.1s\n",
      "[Pipeline] ................ (step 2 of 3) Processing sm, total=   0.2s\n",
      "[Pipeline] ............. (step 3 of 3) Processing dummy, total=   0.0s\n",
      "[Pipeline] ................ (step 1 of 3) Processing ct, total=   0.1s\n",
      "[Pipeline] ................ (step 2 of 3) Processing sm, total=   0.2s\n",
      "[Pipeline] ............. (step 3 of 3) Processing dummy, total=   0.0s\n",
      "[Pipeline] ................ (step 1 of 3) Processing ct, total=   0.1s\n",
      "[Pipeline] ................ (step 2 of 3) Processing sm, total=   0.2s\n",
      "[Pipeline] ............. (step 3 of 3) Processing dummy, total=   0.0s\n",
      "[Pipeline] ................ (step 1 of 3) Processing ct, total=   0.1s\n",
      "[Pipeline] ................ (step 2 of 3) Processing sm, total=   0.2s\n",
      "[Pipeline] ............. (step 3 of 3) Processing dummy, total=   0.0s\n"
     ]
    }
   ],
   "source": [
    "rf_dummy_pipe = ModelWithCV(imb_dummy_pipe,model_name='rf_dummy_pipe',X=X_train,y=y_train)"
   ]
  },
  {
   "cell_type": "code",
   "execution_count": 333,
   "metadata": {
    "ExecuteTime": {
     "end_time": "2022-04-22T06:41:53.209207Z",
     "start_time": "2022-04-22T06:41:52.867945Z"
    }
   },
   "outputs": [
    {
     "name": "stderr",
     "output_type": "stream",
     "text": [
      "/opt/anaconda3/envs/learn-env/lib/python3.8/site-packages/sklearn/utils/deprecation.py:87: FutureWarning: Function plot_roc_curve is deprecated; Function :func:`plot_roc_curve` is deprecated in 1.0 and will be removed in 1.2. Use one of the class methods: :meth:`sklearn.metric.RocCurveDisplay.from_predictions` or :meth:`sklearn.metric.RocCurveDisplay.from_estimator`.\n",
      "  warnings.warn(msg, category=FutureWarning)\n",
      "/opt/anaconda3/envs/learn-env/lib/python3.8/site-packages/sklearn/utils/deprecation.py:87: FutureWarning: Function plot_confusion_matrix is deprecated; Function `plot_confusion_matrix` is deprecated in 1.0 and will be removed in 1.2. Use one of the class methods: ConfusionMatrixDisplay.from_predictions or ConfusionMatrixDisplay.from_estimator.\n",
      "  warnings.warn(msg, category=FutureWarning)\n"
     ]
    },
    {
     "name": "stdout",
     "output_type": "stream",
     "text": [
      " \n",
      "  f1_score is 0.0 CV Results for `rf_dummy_pipe` model:\n",
      "            0.91322 ± 0.00006 accuracy\n",
      "         <sklearn.metrics._plot.confusion_matrix.ConfusionMatrixDisplay object at 0x7f941e3f16a0> <sklearn.metrics._plot.roc_curve.RocCurveDisplay object at 0x7f9688403eb0>\n"
     ]
    },
    {
     "data": {
      "image/png": "[encoded data removed]",
      "text/plain": [
       "<Figure size 432x288 with 1 Axes>"
      ]
     },
     "metadata": {
      "needs_background": "light"
     },
     "output_type": "display_data"
    },
    {
     "data": {
      "image/png": "[encoded data removed]",
      "text/plain": [
       "<Figure size 432x288 with 2 Axes>"
      ]
     },
     "metadata": {
      "needs_background": "light"
     },
     "output_type": "display_data"
    }
   ],
   "source": [
    "rf_dummy_pipe.print_summary()"
   ]
  },
  {
   "cell_type": "code",
   "execution_count": 334,
   "metadata": {
    "ExecuteTime": {
     "end_time": "2022-04-22T06:41:53.211936Z",
     "start_time": "2022-04-22T06:41:53.210508Z"
    }
   },
   "outputs": [],
   "source": [
    "# Simple Model"
   ]
  },
  {
   "cell_type": "markdown",
   "metadata": {},
   "source": [
    "A random forest methodology was chosen because I have a large data set with high dimensionality. Smote was used to deal with the class imbalance of the target. The score I will be focusing on is the F1 score because I care about both precision and recall."
   ]
  },
  {
   "cell_type": "code",
   "execution_count": 335,
   "metadata": {
    "ExecuteTime": {
     "end_time": "2022-04-22T06:41:53.214887Z",
     "start_time": "2022-04-22T06:41:53.212816Z"
    }
   },
   "outputs": [],
   "source": [
    "imb_pipe = imbPipeline(steps=[('ct', ct),\n",
    "                             ('sm', SMOTE()),\n",
    "                             ('rf', RandomForestClassifier(max_depth=20,verbose=3))\n",
    "                             ],verbose=True)"
   ]
  },
  {
   "cell_type": "code",
   "execution_count": 336,
   "metadata": {
    "ExecuteTime": {
     "end_time": "2022-04-22T06:42:10.821205Z",
     "start_time": "2022-04-22T06:41:53.216047Z"
    }
   },
   "outputs": [
    {
     "name": "stdout",
     "output_type": "stream",
     "text": [
      "[Pipeline] ................ (step 1 of 3) Processing ct, total=   0.1s\n",
      "[Pipeline] ................ (step 2 of 3) Processing sm, total=   0.3s\n",
      "building tree 1 of 100\n"
     ]
    },
    {
     "name": "stderr",
     "output_type": "stream",
     "text": [
      "[Parallel(n_jobs=1)]: Using backend SequentialBackend with 1 concurrent workers.\n",
      "[Parallel(n_jobs=1)]: Done   1 out of   1 | elapsed:    0.2s remaining:    0.0s\n"
     ]
    },
    {
     "name": "stdout",
     "output_type": "stream",
     "text": [
      "building tree 2 of 100\n",
      "building tree 3 of 100\n"
     ]
    },
    {
     "name": "stderr",
     "output_type": "stream",
     "text": [
      "[Parallel(n_jobs=1)]: Done   2 out of   2 | elapsed:    0.3s remaining:    0.0s\n"
     ]
    },
    {
     "name": "stdout",
     "output_type": "stream",
     "text": [
      "building tree 4 of 100\n",
      "building tree 5 of 100\n",
      "building tree 6 of 100\n",
      "building tree 7 of 100\n",
      "building tree 8 of 100\n",
      "building tree 9 of 100\n",
      "building tree 10 of 100\n",
      "building tree 11 of 100\n",
      "building tree 12 of 100\n",
      "building tree 13 of 100\n",
      "building tree 14 of 100\n",
      "building tree 15 of 100\n",
      "building tree 16 of 100\n",
      "building tree 17 of 100\n",
      "building tree 18 of 100\n",
      "building tree 19 of 100\n",
      "building tree 20 of 100\n",
      "building tree 21 of 100\n",
      "building tree 22 of 100\n",
      "building tree 23 of 100\n",
      "building tree 24 of 100\n",
      "building tree 25 of 100\n",
      "building tree 26 of 100\n",
      "building tree 27 of 100\n",
      "building tree 28 of 100\n",
      "building tree 29 of 100\n",
      "building tree 30 of 100\n",
      "building tree 31 of 100\n",
      "building tree 32 of 100\n",
      "building tree 33 of 100\n",
      "building tree 34 of 100\n",
      "building tree 35 of 100\n",
      "building tree 36 of 100\n",
      "building tree 37 of 100\n",
      "building tree 38 of 100\n",
      "building tree 39 of 100\n",
      "building tree 40 of 100\n",
      "building tree 41 of 100\n",
      "building tree 42 of 100\n",
      "building tree 43 of 100\n",
      "building tree 44 of 100\n",
      "building tree 45 of 100\n",
      "building tree 46 of 100\n",
      "building tree 47 of 100\n",
      "building tree 48 of 100\n",
      "building tree 49 of 100\n",
      "building tree 50 of 100\n",
      "building tree 51 of 100\n",
      "building tree 52 of 100\n",
      "building tree 53 of 100\n",
      "building tree 54 of 100\n",
      "building tree 55 of 100\n",
      "building tree 56 of 100\n",
      "building tree 57 of 100\n",
      "building tree 58 of 100\n",
      "building tree 59 of 100\n",
      "building tree 60 of 100\n",
      "building tree 61 of 100\n",
      "building tree 62 of 100\n",
      "building tree 63 of 100\n",
      "building tree 64 of 100\n",
      "building tree 65 of 100\n",
      "building tree 66 of 100\n",
      "building tree 67 of 100\n",
      "building tree 68 of 100\n",
      "building tree 69 of 100\n",
      "building tree 70 of 100\n",
      "building tree 71 of 100\n",
      "building tree 72 of 100\n",
      "building tree 73 of 100\n",
      "building tree 74 of 100\n",
      "building tree 75 of 100\n",
      "building tree 76 of 100\n",
      "building tree 77 of 100\n",
      "building tree 78 of 100\n",
      "building tree 79 of 100\n",
      "building tree 80 of 100\n",
      "building tree 81 of 100\n",
      "building tree 82 of 100\n",
      "building tree 83 of 100\n",
      "building tree 84 of 100\n",
      "building tree 85 of 100\n",
      "building tree 86 of 100\n",
      "building tree 87 of 100\n",
      "building tree 88 of 100\n",
      "building tree 89 of 100\n",
      "building tree 90 of 100\n",
      "building tree 91 of 100\n",
      "building tree 92 of 100\n",
      "building tree 93 of 100\n",
      "building tree 94 of 100\n",
      "building tree 95 of 100\n",
      "building tree 96 of 100\n",
      "building tree 97 of 100\n",
      "building tree 98 of 100\n",
      "building tree 99 of 100\n",
      "building tree 100 of 100\n",
      "[Pipeline] ................ (step 3 of 3) Processing rf, total=  17.2s\n"
     ]
    },
    {
     "name": "stderr",
     "output_type": "stream",
     "text": [
      "[Parallel(n_jobs=1)]: Done 100 out of 100 | elapsed:   17.2s finished\n"
     ]
    },
    {
     "data": {
      "text/plain": [
       "Pipeline(steps=[('ct',\n",
       "                 ColumnTransformer(remainder='passthrough',\n",
       "                                   transformers=[('subpipe_num',\n",
       "                                                  Pipeline(steps=[('ss',\n",
       "                                                                   StandardScaler())]),\n",
       "                                                  ['age', 'bmi', 'height',\n",
       "                                                   'pre_icu_los_days', 'weight',\n",
       "                                                   'heart_rate_apache',\n",
       "                                                   'map_apache',\n",
       "                                                   'resprate_apache',\n",
       "                                                   'temp_apache',\n",
       "                                                   'd1_diasbp_max',\n",
       "                                                   'd1_diasbp_min',\n",
       "                                                   'd1_diasbp_noninvasive_max',\n",
       "                                                   'd1_diasbp_noninvasive_min',\n",
       "                                                   'd1_heartrat...\n",
       "                                                   'd1_spo2_max', 'd1_spo2_min',\n",
       "                                                   'd1_sysbp_max',\n",
       "                                                   'd1_sysbp_min',\n",
       "                                                   'd1_sysbp_noninvasive_max',\n",
       "                                                   'd1_sysbp_noninvasive_min',\n",
       "                                                   'd1_temp_max', 'd1_temp_min',\n",
       "                                                   'h1_diasbp_max', ...]),\n",
       "                                                 ('subpipe_cat',\n",
       "                                                  Pipeline(steps=[('ohe',\n",
       "                                                                   OneHotEncoder(handle_unknown='ignore',\n",
       "                                                                                 sparse=False))]),\n",
       "                                                  [3, 5, 6, 7, 10, 75])])),\n",
       "                ('sm', SMOTE()),\n",
       "                ('rf', RandomForestClassifier(max_depth=20, verbose=3))],\n",
       "         verbose=True)"
      ]
     },
     "execution_count": 336,
     "metadata": {},
     "output_type": "execute_result"
    }
   ],
   "source": [
    "imb_pipe.fit(X_train,y_train)"
   ]
  },
  {
   "cell_type": "code",
   "execution_count": 337,
   "metadata": {
    "ExecuteTime": {
     "end_time": "2022-04-22T06:43:19.784920Z",
     "start_time": "2022-04-22T06:42:10.822395Z"
    }
   },
   "outputs": [
    {
     "name": "stdout",
     "output_type": "stream",
     "text": [
      "[Pipeline] ................ (step 1 of 3) Processing ct, total=   0.1s\n",
      "[Pipeline] ................ (step 2 of 3) Processing sm, total=   0.2s\n"
     ]
    },
    {
     "name": "stderr",
     "output_type": "stream",
     "text": [
      "[Parallel(n_jobs=1)]: Using backend SequentialBackend with 1 concurrent workers.\n",
      "[Parallel(n_jobs=1)]: Done   1 out of   1 | elapsed:    0.1s remaining:    0.0s\n"
     ]
    },
    {
     "name": "stdout",
     "output_type": "stream",
     "text": [
      "building tree 1 of 100\n",
      "building tree 2 of 100\n"
     ]
    },
    {
     "name": "stderr",
     "output_type": "stream",
     "text": [
      "[Parallel(n_jobs=1)]: Done   2 out of   2 | elapsed:    0.3s remaining:    0.0s\n"
     ]
    },
    {
     "name": "stdout",
     "output_type": "stream",
     "text": [
      "building tree 3 of 100\n",
      "building tree 4 of 100\n",
      "building tree 5 of 100\n",
      "building tree 6 of 100\n",
      "building tree 7 of 100\n",
      "building tree 8 of 100\n",
      "building tree 9 of 100\n",
      "building tree 10 of 100\n",
      "building tree 11 of 100\n",
      "building tree 12 of 100\n",
      "building tree 13 of 100\n",
      "building tree 14 of 100\n",
      "building tree 15 of 100\n",
      "building tree 16 of 100\n",
      "building tree 17 of 100\n",
      "building tree 18 of 100\n",
      "building tree 19 of 100\n",
      "building tree 20 of 100\n",
      "building tree 21 of 100\n",
      "building tree 22 of 100\n",
      "building tree 23 of 100\n",
      "building tree 24 of 100\n",
      "building tree 25 of 100\n",
      "building tree 26 of 100\n",
      "building tree 27 of 100\n",
      "building tree 28 of 100\n",
      "building tree 29 of 100\n",
      "building tree 30 of 100\n",
      "building tree 31 of 100\n",
      "building tree 32 of 100\n",
      "building tree 33 of 100\n",
      "building tree 34 of 100\n",
      "building tree 35 of 100\n",
      "building tree 36 of 100\n",
      "building tree 37 of 100\n",
      "building tree 38 of 100\n",
      "building tree 39 of 100\n",
      "building tree 40 of 100\n",
      "building tree 41 of 100\n",
      "building tree 42 of 100\n",
      "building tree 43 of 100\n",
      "building tree 44 of 100\n",
      "building tree 45 of 100\n",
      "building tree 46 of 100\n",
      "building tree 47 of 100\n",
      "building tree 48 of 100\n",
      "building tree 49 of 100\n",
      "building tree 50 of 100\n",
      "building tree 51 of 100\n",
      "building tree 52 of 100\n",
      "building tree 53 of 100\n",
      "building tree 54 of 100\n",
      "building tree 55 of 100\n",
      "building tree 56 of 100\n",
      "building tree 57 of 100\n",
      "building tree 58 of 100\n",
      "building tree 59 of 100\n",
      "building tree 60 of 100\n",
      "building tree 61 of 100\n",
      "building tree 62 of 100\n",
      "building tree 63 of 100\n",
      "building tree 64 of 100\n",
      "building tree 65 of 100\n",
      "building tree 66 of 100\n",
      "building tree 67 of 100\n",
      "building tree 68 of 100\n",
      "building tree 69 of 100\n",
      "building tree 70 of 100\n",
      "building tree 71 of 100\n",
      "building tree 72 of 100\n",
      "building tree 73 of 100\n",
      "building tree 74 of 100\n",
      "building tree 75 of 100\n",
      "building tree 76 of 100\n",
      "building tree 77 of 100\n",
      "building tree 78 of 100\n",
      "building tree 79 of 100\n",
      "building tree 80 of 100\n",
      "building tree 81 of 100\n",
      "building tree 82 of 100\n",
      "building tree 83 of 100\n",
      "building tree 84 of 100\n",
      "building tree 85 of 100\n",
      "building tree 86 of 100\n",
      "building tree 87 of 100\n",
      "building tree 88 of 100\n",
      "building tree 89 of 100\n",
      "building tree 90 of 100\n",
      "building tree 91 of 100\n",
      "building tree 92 of 100\n",
      "building tree 93 of 100\n",
      "building tree 94 of 100\n",
      "building tree 95 of 100\n",
      "building tree 96 of 100\n",
      "building tree 97 of 100\n",
      "building tree 98 of 100\n",
      "building tree 99 of 100\n",
      "building tree 100 of 100\n"
     ]
    },
    {
     "name": "stderr",
     "output_type": "stream",
     "text": [
      "[Parallel(n_jobs=1)]: Done 100 out of 100 | elapsed:   13.4s finished\n",
      "[Parallel(n_jobs=1)]: Using backend SequentialBackend with 1 concurrent workers.\n",
      "[Parallel(n_jobs=1)]: Done   1 out of   1 | elapsed:    0.0s remaining:    0.0s\n",
      "[Parallel(n_jobs=1)]: Done   2 out of   2 | elapsed:    0.0s remaining:    0.0s\n",
      "[Parallel(n_jobs=1)]: Done 100 out of 100 | elapsed:    0.1s finished\n"
     ]
    },
    {
     "name": "stdout",
     "output_type": "stream",
     "text": [
      "[Pipeline] ................ (step 3 of 3) Processing rf, total=  13.4s\n",
      "[Pipeline] ................ (step 1 of 3) Processing ct, total=   0.1s\n",
      "[Pipeline] ................ (step 2 of 3) Processing sm, total=   0.2s\n"
     ]
    },
    {
     "name": "stderr",
     "output_type": "stream",
     "text": [
      "[Parallel(n_jobs=1)]: Using backend SequentialBackend with 1 concurrent workers.\n",
      "[Parallel(n_jobs=1)]: Done   1 out of   1 | elapsed:    0.1s remaining:    0.0s\n"
     ]
    },
    {
     "name": "stdout",
     "output_type": "stream",
     "text": [
      "building tree 1 of 100\n",
      "building tree 2 of 100\n"
     ]
    },
    {
     "name": "stderr",
     "output_type": "stream",
     "text": [
      "[Parallel(n_jobs=1)]: Done   2 out of   2 | elapsed:    0.3s remaining:    0.0s\n"
     ]
    },
    {
     "name": "stdout",
     "output_type": "stream",
     "text": [
      "building tree 3 of 100\n",
      "building tree 4 of 100\n",
      "building tree 5 of 100\n",
      "building tree 6 of 100\n",
      "building tree 7 of 100\n",
      "building tree 8 of 100\n",
      "building tree 9 of 100\n",
      "building tree 10 of 100\n",
      "building tree 11 of 100\n",
      "building tree 12 of 100\n",
      "building tree 13 of 100\n",
      "building tree 14 of 100\n",
      "building tree 15 of 100\n",
      "building tree 16 of 100\n",
      "building tree 17 of 100\n",
      "building tree 18 of 100\n",
      "building tree 19 of 100\n",
      "building tree 20 of 100\n",
      "building tree 21 of 100\n",
      "building tree 22 of 100\n",
      "building tree 23 of 100\n",
      "building tree 24 of 100\n",
      "building tree 25 of 100\n",
      "building tree 26 of 100\n",
      "building tree 27 of 100\n",
      "building tree 28 of 100\n",
      "building tree 29 of 100\n",
      "building tree 30 of 100\n",
      "building tree 31 of 100\n",
      "building tree 32 of 100\n",
      "building tree 33 of 100\n",
      "building tree 34 of 100\n",
      "building tree 35 of 100\n",
      "building tree 36 of 100\n",
      "building tree 37 of 100\n",
      "building tree 38 of 100\n",
      "building tree 39 of 100\n",
      "building tree 40 of 100\n",
      "building tree 41 of 100\n",
      "building tree 42 of 100\n",
      "building tree 43 of 100\n",
      "building tree 44 of 100\n",
      "building tree 45 of 100\n",
      "building tree 46 of 100\n",
      "building tree 47 of 100\n",
      "building tree 48 of 100\n",
      "building tree 49 of 100\n",
      "building tree 50 of 100\n",
      "building tree 51 of 100\n",
      "building tree 52 of 100\n",
      "building tree 53 of 100\n",
      "building tree 54 of 100\n",
      "building tree 55 of 100\n",
      "building tree 56 of 100\n",
      "building tree 57 of 100\n",
      "building tree 58 of 100\n",
      "building tree 59 of 100\n",
      "building tree 60 of 100\n",
      "building tree 61 of 100\n",
      "building tree 62 of 100\n",
      "building tree 63 of 100\n",
      "building tree 64 of 100\n",
      "building tree 65 of 100\n",
      "building tree 66 of 100\n",
      "building tree 67 of 100\n",
      "building tree 68 of 100\n",
      "building tree 69 of 100\n",
      "building tree 70 of 100\n",
      "building tree 71 of 100\n",
      "building tree 72 of 100\n",
      "building tree 73 of 100\n",
      "building tree 74 of 100\n",
      "building tree 75 of 100\n",
      "building tree 76 of 100\n",
      "building tree 77 of 100\n",
      "building tree 78 of 100\n",
      "building tree 79 of 100\n",
      "building tree 80 of 100\n",
      "building tree 81 of 100\n",
      "building tree 82 of 100\n",
      "building tree 83 of 100\n",
      "building tree 84 of 100\n",
      "building tree 85 of 100\n",
      "building tree 86 of 100\n",
      "building tree 87 of 100\n",
      "building tree 88 of 100\n",
      "building tree 89 of 100\n",
      "building tree 90 of 100\n",
      "building tree 91 of 100\n",
      "building tree 92 of 100\n",
      "building tree 93 of 100\n",
      "building tree 94 of 100\n",
      "building tree 95 of 100\n",
      "building tree 96 of 100\n",
      "building tree 97 of 100\n",
      "building tree 98 of 100\n",
      "building tree 99 of 100\n",
      "building tree 100 of 100\n"
     ]
    },
    {
     "name": "stderr",
     "output_type": "stream",
     "text": [
      "[Parallel(n_jobs=1)]: Done 100 out of 100 | elapsed:   13.2s finished\n",
      "[Parallel(n_jobs=1)]: Using backend SequentialBackend with 1 concurrent workers.\n",
      "[Parallel(n_jobs=1)]: Done   1 out of   1 | elapsed:    0.0s remaining:    0.0s\n",
      "[Parallel(n_jobs=1)]: Done   2 out of   2 | elapsed:    0.0s remaining:    0.0s\n",
      "[Parallel(n_jobs=1)]: Done 100 out of 100 | elapsed:    0.1s finished\n"
     ]
    },
    {
     "name": "stdout",
     "output_type": "stream",
     "text": [
      "[Pipeline] ................ (step 3 of 3) Processing rf, total=  13.2s\n",
      "[Pipeline] ................ (step 1 of 3) Processing ct, total=   0.1s\n",
      "[Pipeline] ................ (step 2 of 3) Processing sm, total=   0.2s\n"
     ]
    },
    {
     "name": "stderr",
     "output_type": "stream",
     "text": [
      "[Parallel(n_jobs=1)]: Using backend SequentialBackend with 1 concurrent workers.\n",
      "[Parallel(n_jobs=1)]: Done   1 out of   1 | elapsed:    0.1s remaining:    0.0s\n"
     ]
    },
    {
     "name": "stdout",
     "output_type": "stream",
     "text": [
      "building tree 1 of 100\n",
      "building tree 2 of 100\n"
     ]
    },
    {
     "name": "stderr",
     "output_type": "stream",
     "text": [
      "[Parallel(n_jobs=1)]: Done   2 out of   2 | elapsed:    0.3s remaining:    0.0s\n"
     ]
    },
    {
     "name": "stdout",
     "output_type": "stream",
     "text": [
      "building tree 3 of 100\n",
      "building tree 4 of 100\n",
      "building tree 5 of 100\n",
      "building tree 6 of 100\n",
      "building tree 7 of 100\n",
      "building tree 8 of 100\n",
      "building tree 9 of 100\n",
      "building tree 10 of 100\n",
      "building tree 11 of 100\n",
      "building tree 12 of 100\n",
      "building tree 13 of 100\n",
      "building tree 14 of 100\n",
      "building tree 15 of 100\n",
      "building tree 16 of 100\n",
      "building tree 17 of 100\n",
      "building tree 18 of 100\n",
      "building tree 19 of 100\n",
      "building tree 20 of 100\n",
      "building tree 21 of 100\n",
      "building tree 22 of 100\n",
      "building tree 23 of 100\n",
      "building tree 24 of 100\n",
      "building tree 25 of 100\n",
      "building tree 26 of 100\n",
      "building tree 27 of 100\n",
      "building tree 28 of 100\n",
      "building tree 29 of 100\n",
      "building tree 30 of 100\n",
      "building tree 31 of 100\n",
      "building tree 32 of 100\n",
      "building tree 33 of 100\n",
      "building tree 34 of 100\n",
      "building tree 35 of 100\n",
      "building tree 36 of 100\n",
      "building tree 37 of 100\n",
      "building tree 38 of 100\n",
      "building tree 39 of 100\n",
      "building tree 40 of 100\n",
      "building tree 41 of 100\n",
      "building tree 42 of 100\n",
      "building tree 43 of 100\n",
      "building tree 44 of 100\n",
      "building tree 45 of 100\n",
      "building tree 46 of 100\n",
      "building tree 47 of 100\n",
      "building tree 48 of 100\n",
      "building tree 49 of 100\n",
      "building tree 50 of 100\n",
      "building tree 51 of 100\n",
      "building tree 52 of 100\n",
      "building tree 53 of 100\n",
      "building tree 54 of 100\n",
      "building tree 55 of 100\n",
      "building tree 56 of 100\n",
      "building tree 57 of 100\n",
      "building tree 58 of 100\n",
      "building tree 59 of 100\n",
      "building tree 60 of 100\n",
      "building tree 61 of 100\n",
      "building tree 62 of 100\n",
      "building tree 63 of 100\n",
      "building tree 64 of 100\n",
      "building tree 65 of 100\n",
      "building tree 66 of 100\n",
      "building tree 67 of 100\n",
      "building tree 68 of 100\n",
      "building tree 69 of 100\n",
      "building tree 70 of 100\n",
      "building tree 71 of 100\n",
      "building tree 72 of 100\n",
      "building tree 73 of 100\n",
      "building tree 74 of 100\n",
      "building tree 75 of 100\n",
      "building tree 76 of 100\n",
      "building tree 77 of 100\n",
      "building tree 78 of 100\n",
      "building tree 79 of 100\n",
      "building tree 80 of 100\n",
      "building tree 81 of 100\n",
      "building tree 82 of 100\n",
      "building tree 83 of 100\n",
      "building tree 84 of 100\n",
      "building tree 85 of 100\n",
      "building tree 86 of 100\n",
      "building tree 87 of 100\n",
      "building tree 88 of 100\n",
      "building tree 89 of 100\n",
      "building tree 90 of 100\n",
      "building tree 91 of 100\n",
      "building tree 92 of 100\n",
      "building tree 93 of 100\n",
      "building tree 94 of 100\n",
      "building tree 95 of 100\n",
      "building tree 96 of 100\n",
      "building tree 97 of 100\n",
      "building tree 98 of 100\n",
      "building tree 99 of 100\n",
      "building tree 100 of 100\n"
     ]
    },
    {
     "name": "stderr",
     "output_type": "stream",
     "text": [
      "[Parallel(n_jobs=1)]: Done 100 out of 100 | elapsed:   13.2s finished\n",
      "[Parallel(n_jobs=1)]: Using backend SequentialBackend with 1 concurrent workers.\n",
      "[Parallel(n_jobs=1)]: Done   1 out of   1 | elapsed:    0.0s remaining:    0.0s\n",
      "[Parallel(n_jobs=1)]: Done   2 out of   2 | elapsed:    0.0s remaining:    0.0s\n",
      "[Parallel(n_jobs=1)]: Done 100 out of 100 | elapsed:    0.1s finished\n"
     ]
    },
    {
     "name": "stdout",
     "output_type": "stream",
     "text": [
      "[Pipeline] ................ (step 3 of 3) Processing rf, total=  13.2s\n",
      "[Pipeline] ................ (step 1 of 3) Processing ct, total=   0.1s\n",
      "[Pipeline] ................ (step 2 of 3) Processing sm, total=   0.2s\n"
     ]
    },
    {
     "name": "stderr",
     "output_type": "stream",
     "text": [
      "[Parallel(n_jobs=1)]: Using backend SequentialBackend with 1 concurrent workers.\n",
      "[Parallel(n_jobs=1)]: Done   1 out of   1 | elapsed:    0.1s remaining:    0.0s\n"
     ]
    },
    {
     "name": "stdout",
     "output_type": "stream",
     "text": [
      "building tree 1 of 100\n",
      "building tree 2 of 100\n"
     ]
    },
    {
     "name": "stderr",
     "output_type": "stream",
     "text": [
      "[Parallel(n_jobs=1)]: Done   2 out of   2 | elapsed:    0.3s remaining:    0.0s\n"
     ]
    },
    {
     "name": "stdout",
     "output_type": "stream",
     "text": [
      "building tree 3 of 100\n",
      "building tree 4 of 100\n",
      "building tree 5 of 100\n",
      "building tree 6 of 100\n",
      "building tree 7 of 100\n",
      "building tree 8 of 100\n",
      "building tree 9 of 100\n",
      "building tree 10 of 100\n",
      "building tree 11 of 100\n",
      "building tree 12 of 100\n",
      "building tree 13 of 100\n",
      "building tree 14 of 100\n",
      "building tree 15 of 100\n",
      "building tree 16 of 100\n",
      "building tree 17 of 100\n",
      "building tree 18 of 100\n",
      "building tree 19 of 100\n",
      "building tree 20 of 100\n",
      "building tree 21 of 100\n",
      "building tree 22 of 100\n",
      "building tree 23 of 100\n",
      "building tree 24 of 100\n",
      "building tree 25 of 100\n",
      "building tree 26 of 100\n",
      "building tree 27 of 100\n",
      "building tree 28 of 100\n",
      "building tree 29 of 100\n",
      "building tree 30 of 100\n",
      "building tree 31 of 100\n",
      "building tree 32 of 100\n",
      "building tree 33 of 100\n",
      "building tree 34 of 100\n",
      "building tree 35 of 100\n",
      "building tree 36 of 100\n",
      "building tree 37 of 100\n",
      "building tree 38 of 100\n",
      "building tree 39 of 100\n",
      "building tree 40 of 100\n",
      "building tree 41 of 100\n",
      "building tree 42 of 100\n",
      "building tree 43 of 100\n",
      "building tree 44 of 100\n",
      "building tree 45 of 100\n",
      "building tree 46 of 100\n",
      "building tree 47 of 100\n",
      "building tree 48 of 100\n",
      "building tree 49 of 100\n",
      "building tree 50 of 100\n",
      "building tree 51 of 100\n",
      "building tree 52 of 100\n",
      "building tree 53 of 100\n",
      "building tree 54 of 100\n",
      "building tree 55 of 100\n",
      "building tree 56 of 100\n",
      "building tree 57 of 100\n",
      "building tree 58 of 100\n",
      "building tree 59 of 100\n",
      "building tree 60 of 100\n",
      "building tree 61 of 100\n",
      "building tree 62 of 100\n",
      "building tree 63 of 100\n",
      "building tree 64 of 100\n",
      "building tree 65 of 100\n",
      "building tree 66 of 100\n",
      "building tree 67 of 100\n",
      "building tree 68 of 100\n",
      "building tree 69 of 100\n",
      "building tree 70 of 100\n",
      "building tree 71 of 100\n",
      "building tree 72 of 100\n",
      "building tree 73 of 100\n",
      "building tree 74 of 100\n",
      "building tree 75 of 100\n",
      "building tree 76 of 100\n",
      "building tree 77 of 100\n",
      "building tree 78 of 100\n",
      "building tree 79 of 100\n",
      "building tree 80 of 100\n",
      "building tree 81 of 100\n",
      "building tree 82 of 100\n",
      "building tree 83 of 100\n",
      "building tree 84 of 100\n",
      "building tree 85 of 100\n",
      "building tree 86 of 100\n",
      "building tree 87 of 100\n",
      "building tree 88 of 100\n",
      "building tree 89 of 100\n",
      "building tree 90 of 100\n",
      "building tree 91 of 100\n",
      "building tree 92 of 100\n",
      "building tree 93 of 100\n",
      "building tree 94 of 100\n",
      "building tree 95 of 100\n",
      "building tree 96 of 100\n",
      "building tree 97 of 100\n",
      "building tree 98 of 100\n",
      "building tree 99 of 100\n",
      "building tree 100 of 100\n"
     ]
    },
    {
     "name": "stderr",
     "output_type": "stream",
     "text": [
      "[Parallel(n_jobs=1)]: Done 100 out of 100 | elapsed:   13.7s finished\n",
      "[Parallel(n_jobs=1)]: Using backend SequentialBackend with 1 concurrent workers.\n",
      "[Parallel(n_jobs=1)]: Done   1 out of   1 | elapsed:    0.0s remaining:    0.0s\n",
      "[Parallel(n_jobs=1)]: Done   2 out of   2 | elapsed:    0.0s remaining:    0.0s\n",
      "[Parallel(n_jobs=1)]: Done 100 out of 100 | elapsed:    0.1s finished\n"
     ]
    },
    {
     "name": "stdout",
     "output_type": "stream",
     "text": [
      "[Pipeline] ................ (step 3 of 3) Processing rf, total=  13.6s\n",
      "[Pipeline] ................ (step 1 of 3) Processing ct, total=   0.1s\n",
      "[Pipeline] ................ (step 2 of 3) Processing sm, total=   0.2s\n",
      "building tree 1 of 100\n",
      "building tree 2 of 100\n"
     ]
    },
    {
     "name": "stderr",
     "output_type": "stream",
     "text": [
      "[Parallel(n_jobs=1)]: Using backend SequentialBackend with 1 concurrent workers.\n",
      "[Parallel(n_jobs=1)]: Done   1 out of   1 | elapsed:    0.1s remaining:    0.0s\n",
      "[Parallel(n_jobs=1)]: Done   2 out of   2 | elapsed:    0.3s remaining:    0.0s\n"
     ]
    },
    {
     "name": "stdout",
     "output_type": "stream",
     "text": [
      "building tree 3 of 100\n",
      "building tree 4 of 100\n",
      "building tree 5 of 100\n",
      "building tree 6 of 100\n",
      "building tree 7 of 100\n",
      "building tree 8 of 100\n",
      "building tree 9 of 100\n",
      "building tree 10 of 100\n",
      "building tree 11 of 100\n",
      "building tree 12 of 100\n",
      "building tree 13 of 100\n",
      "building tree 14 of 100\n",
      "building tree 15 of 100\n",
      "building tree 16 of 100\n",
      "building tree 17 of 100\n",
      "building tree 18 of 100\n",
      "building tree 19 of 100\n",
      "building tree 20 of 100\n",
      "building tree 21 of 100\n",
      "building tree 22 of 100\n",
      "building tree 23 of 100\n",
      "building tree 24 of 100\n",
      "building tree 25 of 100\n",
      "building tree 26 of 100\n",
      "building tree 27 of 100\n",
      "building tree 28 of 100\n",
      "building tree 29 of 100\n",
      "building tree 30 of 100\n",
      "building tree 31 of 100\n",
      "building tree 32 of 100\n",
      "building tree 33 of 100\n",
      "building tree 34 of 100\n",
      "building tree 35 of 100\n",
      "building tree 36 of 100\n",
      "building tree 37 of 100\n",
      "building tree 38 of 100\n",
      "building tree 39 of 100\n",
      "building tree 40 of 100\n",
      "building tree 41 of 100\n",
      "building tree 42 of 100\n",
      "building tree 43 of 100\n",
      "building tree 44 of 100\n",
      "building tree 45 of 100\n",
      "building tree 46 of 100\n",
      "building tree 47 of 100\n",
      "building tree 48 of 100\n",
      "building tree 49 of 100\n",
      "building tree 50 of 100\n",
      "building tree 51 of 100\n",
      "building tree 52 of 100\n",
      "building tree 53 of 100\n",
      "building tree 54 of 100\n",
      "building tree 55 of 100\n",
      "building tree 56 of 100\n",
      "building tree 57 of 100\n",
      "building tree 58 of 100\n",
      "building tree 59 of 100\n",
      "building tree 60 of 100\n",
      "building tree 61 of 100\n",
      "building tree 62 of 100\n",
      "building tree 63 of 100\n",
      "building tree 64 of 100\n",
      "building tree 65 of 100\n",
      "building tree 66 of 100\n",
      "building tree 67 of 100\n",
      "building tree 68 of 100\n",
      "building tree 69 of 100\n",
      "building tree 70 of 100\n",
      "building tree 71 of 100\n",
      "building tree 72 of 100\n",
      "building tree 73 of 100\n",
      "building tree 74 of 100\n",
      "building tree 75 of 100\n",
      "building tree 76 of 100\n",
      "building tree 77 of 100\n",
      "building tree 78 of 100\n",
      "building tree 79 of 100\n",
      "building tree 80 of 100\n",
      "building tree 81 of 100\n",
      "building tree 82 of 100\n",
      "building tree 83 of 100\n",
      "building tree 84 of 100\n",
      "building tree 85 of 100\n",
      "building tree 86 of 100\n",
      "building tree 87 of 100\n",
      "building tree 88 of 100\n",
      "building tree 89 of 100\n",
      "building tree 90 of 100\n",
      "building tree 91 of 100\n",
      "building tree 92 of 100\n",
      "building tree 93 of 100\n",
      "building tree 94 of 100\n",
      "building tree 95 of 100\n",
      "building tree 96 of 100\n",
      "building tree 97 of 100\n",
      "building tree 98 of 100\n",
      "building tree 99 of 100\n",
      "building tree 100 of 100\n",
      "[Pipeline] ................ (step 3 of 3) Processing rf, total=  13.4s\n"
     ]
    },
    {
     "name": "stderr",
     "output_type": "stream",
     "text": [
      "[Parallel(n_jobs=1)]: Done 100 out of 100 | elapsed:   13.3s finished\n",
      "[Parallel(n_jobs=1)]: Using backend SequentialBackend with 1 concurrent workers.\n",
      "[Parallel(n_jobs=1)]: Done   1 out of   1 | elapsed:    0.0s remaining:    0.0s\n",
      "[Parallel(n_jobs=1)]: Done   2 out of   2 | elapsed:    0.0s remaining:    0.0s\n",
      "[Parallel(n_jobs=1)]: Done 100 out of 100 | elapsed:    0.1s finished\n"
     ]
    }
   ],
   "source": [
    "rf_pipe = ModelWithCV(imb_pipe,model_name='rf_pipe',X=X_train,y=y_train)"
   ]
  },
  {
   "cell_type": "code",
   "execution_count": 338,
   "metadata": {
    "ExecuteTime": {
     "end_time": "2022-04-22T06:43:22.116019Z",
     "start_time": "2022-04-22T06:43:19.786277Z"
    }
   },
   "outputs": [
    {
     "name": "stderr",
     "output_type": "stream",
     "text": [
      "/opt/anaconda3/envs/learn-env/lib/python3.8/site-packages/sklearn/utils/deprecation.py:87: FutureWarning: Function plot_roc_curve is deprecated; Function :func:`plot_roc_curve` is deprecated in 1.0 and will be removed in 1.2. Use one of the class methods: :meth:`sklearn.metric.RocCurveDisplay.from_predictions` or :meth:`sklearn.metric.RocCurveDisplay.from_estimator`.\n",
      "  warnings.warn(msg, category=FutureWarning)\n",
      "[Parallel(n_jobs=1)]: Using backend SequentialBackend with 1 concurrent workers.\n",
      "[Parallel(n_jobs=1)]: Done   1 out of   1 | elapsed:    0.0s remaining:    0.0s\n",
      "[Parallel(n_jobs=1)]: Done   2 out of   2 | elapsed:    0.0s remaining:    0.0s\n",
      "[Parallel(n_jobs=1)]: Done 100 out of 100 | elapsed:    0.7s finished\n",
      "/opt/anaconda3/envs/learn-env/lib/python3.8/site-packages/sklearn/utils/deprecation.py:87: FutureWarning: Function plot_confusion_matrix is deprecated; Function `plot_confusion_matrix` is deprecated in 1.0 and will be removed in 1.2. Use one of the class methods: ConfusionMatrixDisplay.from_predictions or ConfusionMatrixDisplay.from_estimator.\n",
      "  warnings.warn(msg, category=FutureWarning)\n",
      "[Parallel(n_jobs=1)]: Using backend SequentialBackend with 1 concurrent workers.\n",
      "[Parallel(n_jobs=1)]: Done   1 out of   1 | elapsed:    0.0s remaining:    0.0s\n",
      "[Parallel(n_jobs=1)]: Done   2 out of   2 | elapsed:    0.0s remaining:    0.0s\n",
      "[Parallel(n_jobs=1)]: Done 100 out of 100 | elapsed:    0.6s finished\n",
      "[Parallel(n_jobs=1)]: Using backend SequentialBackend with 1 concurrent workers.\n",
      "[Parallel(n_jobs=1)]: Done   1 out of   1 | elapsed:    0.0s remaining:    0.0s\n",
      "[Parallel(n_jobs=1)]: Done   2 out of   2 | elapsed:    0.0s remaining:    0.0s\n"
     ]
    },
    {
     "name": "stdout",
     "output_type": "stream",
     "text": [
      " \n",
      "  f1_score is 0.9724550898203593 CV Results for `rf_pipe` model:\n",
      "            0.90930 ± 0.00362 accuracy\n",
      "         <sklearn.metrics._plot.confusion_matrix.ConfusionMatrixDisplay object at 0x7f9438d62a30> <sklearn.metrics._plot.roc_curve.RocCurveDisplay object at 0x7f9438d771c0>\n"
     ]
    },
    {
     "name": "stderr",
     "output_type": "stream",
     "text": [
      "[Parallel(n_jobs=1)]: Done 100 out of 100 | elapsed:    0.6s finished\n"
     ]
    },
    {
     "data": {
      "image/png": "[encoded data removed]",
      "text/plain": [
       "<Figure size 432x288 with 1 Axes>"
      ]
     },
     "metadata": {
      "needs_background": "light"
     },
     "output_type": "display_data"
    },
    {
     "data": {
      "image/png": "[encoded data removed]",
      "text/plain": [
       "<Figure size 432x288 with 2 Axes>"
      ]
     },
     "metadata": {
      "needs_background": "light"
     },
     "output_type": "display_data"
    }
   ],
   "source": [
    "rf_pipe.print_summary()"
   ]
  },
  {
   "cell_type": "markdown",
   "metadata": {},
   "source": [
    "Model is overfit and needs to be improved."
   ]
  },
  {
   "cell_type": "code",
   "execution_count": 339,
   "metadata": {
    "ExecuteTime": {
     "end_time": "2022-04-22T06:43:22.118435Z",
     "start_time": "2022-04-22T06:43:22.117001Z"
    }
   },
   "outputs": [],
   "source": [
    "# Complex Model "
   ]
  },
  {
   "cell_type": "markdown",
   "metadata": {},
   "source": [
    "Knowing the previous model was overfit I decreased the max depth and decreased the sampling strategy of the SMOTE and reduce the number of nearest neighbors to 3."
   ]
  },
  {
   "cell_type": "code",
   "execution_count": 340,
   "metadata": {
    "ExecuteTime": {
     "end_time": "2022-04-22T06:43:22.121402Z",
     "start_time": "2022-04-22T06:43:22.119319Z"
    }
   },
   "outputs": [],
   "source": [
    "imb_pipe2 = imbPipeline(steps=[('ct', ct),\n",
    "                             ('sm', SMOTE(sampling_strategy=.25,k_neighbors=3)),\n",
    "                             ('rf', RandomForestClassifier(max_depth=15,\n",
    "                                                           criterion='entropy',\n",
    "                                                           max_features=None,\n",
    "                                                           n_jobs=-1,\n",
    "                                                           verbose=2)),\n",
    "                            ],verbose=True)"
   ]
  },
  {
   "cell_type": "code",
   "execution_count": 341,
   "metadata": {
    "ExecuteTime": {
     "end_time": "2022-04-22T06:43:42.073655Z",
     "start_time": "2022-04-22T06:43:22.122184Z"
    }
   },
   "outputs": [
    {
     "name": "stdout",
     "output_type": "stream",
     "text": [
      "[Pipeline] ................ (step 1 of 3) Processing ct, total=   0.1s\n",
      "[Pipeline] ................ (step 2 of 3) Processing sm, total=   0.3s\n",
      "building tree 1 of 100building tree 2 of 100\n",
      "building tree 3 of 100\n",
      "\n",
      "building tree 4 of 100building tree 5 of 100\n",
      "building tree 6 of 100\n",
      "\n",
      "building tree 7 of 100\n",
      "building tree 8 of 100building tree 9 of 100building tree 10 of 100\n",
      "\n",
      "\n"
     ]
    },
    {
     "name": "stderr",
     "output_type": "stream",
     "text": [
      "[Parallel(n_jobs=-1)]: Using backend ThreadingBackend with 10 concurrent workers.\n"
     ]
    },
    {
     "name": "stdout",
     "output_type": "stream",
     "text": [
      "building tree 11 of 100\n",
      "building tree 12 of 100\n",
      "building tree 13 of 100\n",
      "building tree 14 of 100\n",
      "building tree 15 of 100building tree 16 of 100\n",
      "\n",
      "building tree 17 of 100\n",
      "building tree 18 of 100\n",
      "building tree 19 of 100\n",
      "building tree 20 of 100\n",
      "building tree 21 of 100\n",
      "building tree 22 of 100\n",
      "building tree 23 of 100\n",
      "building tree 24 of 100\n",
      "building tree 25 of 100\n",
      "building tree 26 of 100\n",
      "building tree 27 of 100building tree 28 of 100\n",
      "\n",
      "building tree 29 of 100\n",
      "building tree 30 of 100\n",
      "building tree 31 of 100\n",
      "building tree 32 of 100\n",
      "building tree 33 of 100\n"
     ]
    },
    {
     "name": "stderr",
     "output_type": "stream",
     "text": [
      "[Parallel(n_jobs=-1)]: Done  21 tasks      | elapsed:    5.5s\n"
     ]
    },
    {
     "name": "stdout",
     "output_type": "stream",
     "text": [
      "building tree 34 of 100\n",
      "building tree 35 of 100\n",
      "building tree 36 of 100\n",
      "building tree 37 of 100\n",
      "building tree 38 of 100\n",
      "building tree 39 of 100\n",
      "building tree 40 of 100\n",
      "building tree 41 of 100\n",
      "building tree 42 of 100\n",
      "building tree 43 of 100\n",
      "building tree 44 of 100\n",
      "building tree 45 of 100\n",
      "building tree 46 of 100\n",
      "building tree 47 of 100\n",
      "building tree 48 of 100\n",
      "building tree 49 of 100\n",
      "building tree 50 of 100\n",
      "building tree 51 of 100\n",
      "building tree 52 of 100\n",
      "building tree 53 of 100\n",
      "building tree 54 of 100\n",
      "building tree 55 of 100\n",
      "building tree 56 of 100\n",
      "building tree 57 of 100\n",
      "building tree 58 of 100\n",
      "building tree 59 of 100\n",
      "building tree 60 of 100\n",
      "building tree 61 of 100\n",
      "building tree 62 of 100\n",
      "building tree 63 of 100building tree 64 of 100\n",
      "\n",
      "building tree 65 of 100\n",
      "building tree 66 of 100\n",
      "building tree 67 of 100\n",
      "building tree 68 of 100\n",
      "building tree 69 of 100\n",
      "building tree 70 of 100\n",
      "building tree 71 of 100\n",
      "building tree 72 of 100\n",
      "building tree 73 of 100\n",
      "building tree 74 of 100\n",
      "building tree 75 of 100\n",
      "building tree 76 of 100\n",
      "building tree 77 of 100\n",
      "building tree 78 of 100\n",
      "building tree 79 of 100\n",
      "building tree 80 of 100\n",
      "building tree 81 of 100\n",
      "building tree 82 of 100\n",
      "building tree 83 of 100\n",
      "building tree 84 of 100\n",
      "building tree 85 of 100\n",
      "building tree 86 of 100\n",
      "building tree 87 of 100\n",
      "building tree 88 of 100\n",
      "building tree 89 of 100\n",
      "building tree 90 of 100\n",
      "building tree 91 of 100\n",
      "building tree 92 of 100\n",
      "building tree 93 of 100\n",
      "building tree 94 of 100\n",
      "building tree 95 of 100\n",
      "building tree 96 of 100\n",
      "building tree 97 of 100\n",
      "building tree 98 of 100\n",
      "building tree 99 of 100\n",
      "building tree 100 of 100\n",
      "[Pipeline] ................ (step 3 of 3) Processing rf, total=  19.6s\n"
     ]
    },
    {
     "name": "stderr",
     "output_type": "stream",
     "text": [
      "[Parallel(n_jobs=-1)]: Done 100 out of 100 | elapsed:   19.5s finished\n"
     ]
    },
    {
     "data": {
      "text/plain": [
       "Pipeline(steps=[('ct',\n",
       "                 ColumnTransformer(remainder='passthrough',\n",
       "                                   transformers=[('subpipe_num',\n",
       "                                                  Pipeline(steps=[('ss',\n",
       "                                                                   StandardScaler())]),\n",
       "                                                  ['age', 'bmi', 'height',\n",
       "                                                   'pre_icu_los_days', 'weight',\n",
       "                                                   'heart_rate_apache',\n",
       "                                                   'map_apache',\n",
       "                                                   'resprate_apache',\n",
       "                                                   'temp_apache',\n",
       "                                                   'd1_diasbp_max',\n",
       "                                                   'd1_diasbp_min',\n",
       "                                                   'd1_diasbp_noninvasive_max',\n",
       "                                                   'd1_diasbp_noninvasive_min',\n",
       "                                                   'd1_heartrat...\n",
       "                                                   'd1_sysbp_noninvasive_min',\n",
       "                                                   'd1_temp_max', 'd1_temp_min',\n",
       "                                                   'h1_diasbp_max', ...]),\n",
       "                                                 ('subpipe_cat',\n",
       "                                                  Pipeline(steps=[('ohe',\n",
       "                                                                   OneHotEncoder(handle_unknown='ignore',\n",
       "                                                                                 sparse=False))]),\n",
       "                                                  [3, 5, 6, 7, 10, 75])])),\n",
       "                ('sm', SMOTE(k_neighbors=3, sampling_strategy=0.25)),\n",
       "                ('rf',\n",
       "                 RandomForestClassifier(criterion='entropy', max_depth=15,\n",
       "                                        max_features=None, n_jobs=-1,\n",
       "                                        verbose=2))],\n",
       "         verbose=True)"
      ]
     },
     "execution_count": 341,
     "metadata": {},
     "output_type": "execute_result"
    }
   ],
   "source": [
    "imb_pipe2.fit(X_train,y_train)"
   ]
  },
  {
   "cell_type": "code",
   "execution_count": 342,
   "metadata": {
    "ExecuteTime": {
     "end_time": "2022-04-22T06:43:43.928444Z",
     "start_time": "2022-04-22T06:43:42.074731Z"
    }
   },
   "outputs": [
    {
     "name": "stderr",
     "output_type": "stream",
     "text": [
      "/opt/anaconda3/envs/learn-env/lib/python3.8/site-packages/sklearn/utils/deprecation.py:87: FutureWarning: Function plot_roc_curve is deprecated; Function :func:`plot_roc_curve` is deprecated in 1.0 and will be removed in 1.2. Use one of the class methods: :meth:`sklearn.metric.RocCurveDisplay.from_predictions` or :meth:`sklearn.metric.RocCurveDisplay.from_estimator`.\n",
      "  warnings.warn(msg, category=FutureWarning)\n",
      "[Parallel(n_jobs=1)]: Using backend SequentialBackend with 1 concurrent workers.\n",
      "[Parallel(n_jobs=1)]: Done   1 out of   1 | elapsed:    0.0s remaining:    0.0s\n",
      "[Parallel(n_jobs=1)]: Done 100 out of 100 | elapsed:    0.5s finished\n",
      "/opt/anaconda3/envs/learn-env/lib/python3.8/site-packages/sklearn/utils/deprecation.py:87: FutureWarning: Function plot_confusion_matrix is deprecated; Function `plot_confusion_matrix` is deprecated in 1.0 and will be removed in 1.2. Use one of the class methods: ConfusionMatrixDisplay.from_predictions or ConfusionMatrixDisplay.from_estimator.\n",
      "  warnings.warn(msg, category=FutureWarning)\n",
      "[Parallel(n_jobs=1)]: Using backend SequentialBackend with 1 concurrent workers.\n",
      "[Parallel(n_jobs=1)]: Done   1 out of   1 | elapsed:    0.0s remaining:    0.0s\n",
      "[Parallel(n_jobs=1)]: Done 100 out of 100 | elapsed:    0.5s finished\n",
      "[Parallel(n_jobs=1)]: Using backend SequentialBackend with 1 concurrent workers.\n",
      "[Parallel(n_jobs=1)]: Done   1 out of   1 | elapsed:    0.0s remaining:    0.0s\n"
     ]
    },
    {
     "name": "stdout",
     "output_type": "stream",
     "text": [
      " \n",
      "  f1_score is 0.8221015649952091 CV Results for `rf_pipe2` model:\n",
      "            0.92261 ± 0.00266 accuracy\n",
      "         <sklearn.metrics._plot.confusion_matrix.ConfusionMatrixDisplay object at 0x7f941906b670> <sklearn.metrics._plot.roc_curve.RocCurveDisplay object at 0x7f941d877e80>\n"
     ]
    },
    {
     "name": "stderr",
     "output_type": "stream",
     "text": [
      "[Parallel(n_jobs=1)]: Done 100 out of 100 | elapsed:    0.5s finished\n"
     ]
    },
    {
     "data": {
      "image/png": "[encoded data removed]",
      "text/plain": [
       "<Figure size 432x288 with 1 Axes>"
      ]
     },
     "metadata": {
      "needs_background": "light"
     },
     "output_type": "display_data"
    },
    {
     "data": {
      "image/png": "[encoded data removed]",
      "text/plain": [
       "<Figure size 432x288 with 2 Axes>"
      ]
     },
     "metadata": {
      "needs_background": "light"
     },
     "output_type": "display_data"
    }
   ],
   "source": [
    "rf_pipe2.print_summary()"
   ]
  },
  {
   "cell_type": "code",
   "execution_count": 343,
   "metadata": {
    "ExecuteTime": {
     "end_time": "2022-04-22T06:43:43.930995Z",
     "start_time": "2022-04-22T06:43:43.929573Z"
    }
   },
   "outputs": [],
   "source": [
    "# Looks better. Time to check the test data."
   ]
  },
  {
   "cell_type": "code",
   "execution_count": 344,
   "metadata": {
    "ExecuteTime": {
     "end_time": "2022-04-22T06:43:44.007546Z",
     "start_time": "2022-04-22T06:43:43.932255Z"
    }
   },
   "outputs": [
    {
     "name": "stderr",
     "output_type": "stream",
     "text": [
      "[Parallel(n_jobs=10)]: Using backend ThreadingBackend with 10 concurrent workers.\n",
      "[Parallel(n_jobs=10)]: Done  21 tasks      | elapsed:    0.0s\n",
      "[Parallel(n_jobs=10)]: Done 100 out of 100 | elapsed:    0.0s finished\n"
     ]
    },
    {
     "data": {
      "text/plain": [
       "0.4308717379233759"
      ]
     },
     "execution_count": 344,
     "metadata": {},
     "output_type": "execute_result"
    }
   ],
   "source": [
    "f1_score(y_test,imb_pipe2.predict(X_test))"
   ]
  },
  {
   "cell_type": "markdown",
   "metadata": {},
   "source": [
    "This model is way over fit with the test data. The model complexity need to be reduced again. The next model will be an Extra tree Classifier because adding more randomness should help."
   ]
  },
  {
   "cell_type": "code",
   "execution_count": 345,
   "metadata": {
    "ExecuteTime": {
     "end_time": "2022-04-22T06:43:44.010357Z",
     "start_time": "2022-04-22T06:43:44.008734Z"
    }
   },
   "outputs": [],
   "source": [
    "# More Complex Model"
   ]
  },
  {
   "cell_type": "code",
   "execution_count": 346,
   "metadata": {
    "ExecuteTime": {
     "end_time": "2022-04-22T06:43:44.014004Z",
     "start_time": "2022-04-22T06:43:44.011706Z"
    }
   },
   "outputs": [],
   "source": [
    "imb_pipe3 = imbPipeline(steps=[('ct', ct),\n",
    "                             ('sm', SMOTE(sampling_strategy='auto',k_neighbors=10)),\n",
    "                             ('et', ExtraTreesClassifier(max_depth=10,\n",
    "                                                         criterion='entropy',\n",
    "                                                         bootstrap=True,\n",
    "                                                         \n",
    "                                                         max_features=None,\n",
    "                                                         n_jobs=-1,))\n",
    "                            ],verbose=True)"
   ]
  },
  {
   "cell_type": "code",
   "execution_count": 347,
   "metadata": {
    "ExecuteTime": {
     "end_time": "2022-04-22T06:44:00.359147Z",
     "start_time": "2022-04-22T06:43:44.026933Z"
    }
   },
   "outputs": [
    {
     "name": "stdout",
     "output_type": "stream",
     "text": [
      "[Pipeline] ................ (step 1 of 3) Processing ct, total=   0.1s\n",
      "[Pipeline] ................ (step 2 of 3) Processing sm, total=   0.3s\n",
      "[Pipeline] ................ (step 3 of 3) Processing et, total=  16.0s\n"
     ]
    },
    {
     "data": {
      "text/plain": [
       "Pipeline(steps=[('ct',\n",
       "                 ColumnTransformer(remainder='passthrough',\n",
       "                                   transformers=[('subpipe_num',\n",
       "                                                  Pipeline(steps=[('ss',\n",
       "                                                                   StandardScaler())]),\n",
       "                                                  ['age', 'bmi', 'height',\n",
       "                                                   'pre_icu_los_days', 'weight',\n",
       "                                                   'heart_rate_apache',\n",
       "                                                   'map_apache',\n",
       "                                                   'resprate_apache',\n",
       "                                                   'temp_apache',\n",
       "                                                   'd1_diasbp_max',\n",
       "                                                   'd1_diasbp_min',\n",
       "                                                   'd1_diasbp_noninvasive_max',\n",
       "                                                   'd1_diasbp_noninvasive_min',\n",
       "                                                   'd1_heartrat...\n",
       "                                                   'd1_sysbp_noninvasive_max',\n",
       "                                                   'd1_sysbp_noninvasive_min',\n",
       "                                                   'd1_temp_max', 'd1_temp_min',\n",
       "                                                   'h1_diasbp_max', ...]),\n",
       "                                                 ('subpipe_cat',\n",
       "                                                  Pipeline(steps=[('ohe',\n",
       "                                                                   OneHotEncoder(handle_unknown='ignore',\n",
       "                                                                                 sparse=False))]),\n",
       "                                                  [3, 5, 6, 7, 10, 75])])),\n",
       "                ('sm', SMOTE(k_neighbors=10)),\n",
       "                ('et',\n",
       "                 ExtraTreesClassifier(bootstrap=True, criterion='entropy',\n",
       "                                      max_depth=10, max_features=None,\n",
       "                                      n_jobs=-1))],\n",
       "         verbose=True)"
      ]
     },
     "execution_count": 347,
     "metadata": {},
     "output_type": "execute_result"
    }
   ],
   "source": [
    "imb_pipe3.fit(X_train,y_train)"
   ]
  },
  {
   "cell_type": "code",
   "execution_count": 348,
   "metadata": {
    "ExecuteTime": {
     "end_time": "2022-04-22T06:45:07.868192Z",
     "start_time": "2022-04-22T06:44:00.365362Z"
    }
   },
   "outputs": [
    {
     "name": "stdout",
     "output_type": "stream",
     "text": [
      "[Pipeline] ................ (step 1 of 3) Processing ct, total=   0.1s\n",
      "[Pipeline] ................ (step 2 of 3) Processing sm, total=   0.2s\n",
      "[Pipeline] ................ (step 3 of 3) Processing et, total=  13.5s\n",
      "[Pipeline] ................ (step 1 of 3) Processing ct, total=   0.2s\n",
      "[Pipeline] ................ (step 2 of 3) Processing sm, total=   0.5s\n",
      "[Pipeline] ................ (step 3 of 3) Processing et, total=  13.1s\n",
      "[Pipeline] ................ (step 1 of 3) Processing ct, total=   0.1s\n",
      "[Pipeline] ................ (step 2 of 3) Processing sm, total=   0.2s\n",
      "[Pipeline] ................ (step 3 of 3) Processing et, total=  13.2s\n",
      "[Pipeline] ................ (step 1 of 3) Processing ct, total=   0.1s\n",
      "[Pipeline] ................ (step 2 of 3) Processing sm, total=   0.2s\n",
      "[Pipeline] ................ (step 3 of 3) Processing et, total=  12.8s\n",
      "[Pipeline] ................ (step 1 of 3) Processing ct, total=   0.1s\n",
      "[Pipeline] ................ (step 2 of 3) Processing sm, total=   0.2s\n",
      "[Pipeline] ................ (step 3 of 3) Processing et, total=  13.0s\n"
     ]
    }
   ],
   "source": [
    "rf_pipe3 = ModelWithCV(imb_pipe3,model_name='rf_pipe3',X=X_train,y=y_train)"
   ]
  },
  {
   "cell_type": "code",
   "execution_count": 349,
   "metadata": {
    "ExecuteTime": {
     "end_time": "2022-04-22T06:45:08.733838Z",
     "start_time": "2022-04-22T06:45:07.869528Z"
    }
   },
   "outputs": [
    {
     "name": "stderr",
     "output_type": "stream",
     "text": [
      "/opt/anaconda3/envs/learn-env/lib/python3.8/site-packages/sklearn/utils/deprecation.py:87: FutureWarning: Function plot_roc_curve is deprecated; Function :func:`plot_roc_curve` is deprecated in 1.0 and will be removed in 1.2. Use one of the class methods: :meth:`sklearn.metric.RocCurveDisplay.from_predictions` or :meth:`sklearn.metric.RocCurveDisplay.from_estimator`.\n",
      "  warnings.warn(msg, category=FutureWarning)\n",
      "/opt/anaconda3/envs/learn-env/lib/python3.8/site-packages/sklearn/utils/deprecation.py:87: FutureWarning: Function plot_confusion_matrix is deprecated; Function `plot_confusion_matrix` is deprecated in 1.0 and will be removed in 1.2. Use one of the class methods: ConfusionMatrixDisplay.from_predictions or ConfusionMatrixDisplay.from_estimator.\n",
      "  warnings.warn(msg, category=FutureWarning)\n"
     ]
    },
    {
     "name": "stdout",
     "output_type": "stream",
     "text": [
      " \n",
      "  f1_score is 0.5035669324381032 CV Results for `rf_pipe3` model:\n",
      "            0.87935 ± 0.00585 accuracy\n",
      "         <sklearn.metrics._plot.confusion_matrix.ConfusionMatrixDisplay object at 0x7f968a054820> <sklearn.metrics._plot.roc_curve.RocCurveDisplay object at 0x7f941db90940>\n"
     ]
    },
    {
     "data": {
      "image/png": "[encoded data removed]",
      "text/plain": [
       "<Figure size 432x288 with 1 Axes>"
      ]
     },
     "metadata": {
      "needs_background": "light"
     },
     "output_type": "display_data"
    },
    {
     "data": {
      "image/png": "[encoded data removed]",
      "text/plain": [
       "<Figure size 432x288 with 2 Axes>"
      ]
     },
     "metadata": {
      "needs_background": "light"
     },
     "output_type": "display_data"
    }
   ],
   "source": [
    "rf_pipe3.print_summary()"
   ]
  },
  {
   "cell_type": "code",
   "execution_count": 350,
   "metadata": {
    "ExecuteTime": {
     "end_time": "2022-04-22T06:45:08.830614Z",
     "start_time": "2022-04-22T06:45:08.735044Z"
    }
   },
   "outputs": [
    {
     "data": {
      "text/plain": [
       "0.8809119229679977"
      ]
     },
     "execution_count": 350,
     "metadata": {},
     "output_type": "execute_result"
    }
   ],
   "source": [
    "imb_pipe3.score(X_test,y_test)"
   ]
  },
  {
   "cell_type": "code",
   "execution_count": 351,
   "metadata": {
    "ExecuteTime": {
     "end_time": "2022-04-22T06:45:08.898662Z",
     "start_time": "2022-04-22T06:45:08.831628Z"
    }
   },
   "outputs": [
    {
     "data": {
      "text/plain": [
       "0.46296296296296297"
      ]
     },
     "execution_count": 351,
     "metadata": {},
     "output_type": "execute_result"
    }
   ],
   "source": [
    "f1_score(y_test,imb_pipe3.predict(X_test))"
   ]
  },
  {
   "cell_type": "code",
   "execution_count": 352,
   "metadata": {
    "ExecuteTime": {
     "end_time": "2022-04-22T06:45:08.963038Z",
     "start_time": "2022-04-22T06:45:08.899639Z"
    }
   },
   "outputs": [],
   "source": [
    "preds = imb_pipe3.predict_proba(X_test)[:,1]"
   ]
  },
  {
   "cell_type": "code",
   "execution_count": 353,
   "metadata": {
    "ExecuteTime": {
     "end_time": "2022-04-22T06:45:08.969974Z",
     "start_time": "2022-04-22T06:45:08.964070Z"
    }
   },
   "outputs": [
    {
     "data": {
      "text/plain": [
       "0.871924653260289"
      ]
     },
     "execution_count": 353,
     "metadata": {},
     "output_type": "execute_result"
    }
   ],
   "source": [
    "roc_auc_score(y_test,preds)"
   ]
  },
  {
   "cell_type": "markdown",
   "metadata": {},
   "source": [
    "This model was able to bring the train and test f1 scores closer to each other. This is important because I want my model to be robust against unseen data. The train and test split might have caused the disparity between the f1 scores but I'm glad that my model was giiven a bad split so I could adjust the model to adapt to that."
   ]
  },
  {
   "cell_type": "code",
   "execution_count": null,
   "metadata": {},
   "outputs": [],
   "source": []
  },
  {
   "cell_type": "code",
   "execution_count": null,
   "metadata": {},
   "outputs": [],
   "source": []
  }
 ],
 "metadata": {
  "kernelspec": {
   "display_name": "Python (learn-env)",
   "language": "python",
   "name": "learn-env"
  },
  "language_info": {
   "codemirror_mode": {
    "name": "ipython",
    "version": 3
   },
   "file_extension": ".py",
   "mimetype": "text/x-python",
   "name": "python",
   "nbconvert_exporter": "python",
   "pygments_lexer": "ipython3",
   "version": "3.8.5"
  },
  "notify_time": "30",
  "varInspector": {
   "cols": {
    "lenName": 16,
    "lenType": 16,
    "lenVar": 40
   },
   "kernels_config": {
    "python": {
     "delete_cmd_postfix": "",
     "delete_cmd_prefix": "del ",
     "library": "var_list.py",
     "varRefreshCmd": "print(var_dic_list())"
    },
    "r": {
     "delete_cmd_postfix": ") ",
     "delete_cmd_prefix": "rm(",
     "library": "var_list.r",
     "varRefreshCmd": "cat(var_dic_list()) "
    }
   },
   "oldHeight": 605.85,
   "position": {
    "height": "40px",
    "left": "861px",
    "right": "20px",
    "top": "152px",
    "width": "495px"
   },
   "types_to_exclude": [
    "module",
    "function",
    "builtin_function_or_method",
    "instance",
    "_Feature"
   ],
   "varInspector_section_display": "none",
   "window_display": false
  }
 },
 "nbformat": 4,
 "nbformat_minor": 4
}
